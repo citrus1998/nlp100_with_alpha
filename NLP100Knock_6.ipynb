{
  "nbformat": 4,
  "nbformat_minor": 0,
  "metadata": {
    "colab": {
      "provenance": [],
      "gpuType": "T4",
      "authorship_tag": "ABX9TyM7+yOqZOIKZPT91SfR6zir",
      "include_colab_link": true
    },
    "kernelspec": {
      "name": "python3",
      "display_name": "Python 3"
    },
    "language_info": {
      "name": "python"
    },
    "accelerator": "GPU"
  },
  "cells": [
    {
      "cell_type": "markdown",
      "metadata": {
        "id": "view-in-github",
        "colab_type": "text"
      },
      "source": [
        "<a href=\"https://colab.research.google.com/github/s528661/nlp100/blob/JDLA_Engeneer_20240503/NLP100Knock_6.ipynb\" target=\"_parent\"><img src=\"https://colab.research.google.com/assets/colab-badge.svg\" alt=\"Open In Colab\"/></a>"
      ]
    },
    {
      "cell_type": "markdown",
      "source": [
        "# 第6章: 機械学習  \n",
        "本章では，Fabio Gasparetti氏が公開しているNews Aggregator Data Setを用い，ニュース記事の見出しを「ビジネス」「科学技術」「エンターテイメント」「健康」のカテゴリに分類するタスク（カテゴリ分類）に取り組む．  "
      ],
      "metadata": {
        "id": "rTcwZ0jMgtyg"
      }
    },
    {
      "cell_type": "code",
      "execution_count": 1,
      "metadata": {
        "colab": {
          "base_uri": "https://localhost:8080/"
        },
        "id": "5clo6J5DdBvM",
        "outputId": "a2f935bd-f680-4f2e-dc99-25259d6331b7"
      },
      "outputs": [
        {
          "output_type": "stream",
          "name": "stdout",
          "text": [
            "Collecting mecab-python3\n",
            "  Downloading mecab_python3-1.0.9-cp310-cp310-manylinux_2_17_x86_64.manylinux2014_x86_64.whl (581 kB)\n",
            "\u001b[2K     \u001b[90m━━━━━━━━━━━━━━━━━━━━━━━━━━━━━━━━━━━━━━━━\u001b[0m \u001b[32m581.7/581.7 kB\u001b[0m \u001b[31m7.7 MB/s\u001b[0m eta \u001b[36m0:00:00\u001b[0m\n",
            "\u001b[?25hInstalling collected packages: mecab-python3\n",
            "Successfully installed mecab-python3-1.0.9\n"
          ]
        }
      ],
      "source": [
        "!pip install mecab-python3"
      ]
    },
    {
      "cell_type": "code",
      "source": [
        "import re,sys,os\n",
        "\n",
        "import pickle\n",
        "import time\n",
        "import copy\n",
        "\n",
        "import math\n",
        "import random\n",
        "import string\n",
        "\n",
        "from collections import defaultdict, Counter\n",
        "\n",
        "import numpy as np\n",
        "import pandas as pd\n",
        "import scipy as scp\n",
        "\n",
        "import matplotlib\n",
        "import matplotlib.pyplot as plt\n",
        "import seaborn as sns\n",
        "\n",
        "import torch\n",
        "import torch.nn as nn\n",
        "import torch.optim as optim\n",
        "import torch.nn.functional as F\n",
        "\n",
        "from torch.utils.data import Dataset, DataLoader, TensorDataset\n",
        "\n",
        "from sklearn import feature_extraction, preprocessing\n",
        "\n",
        "from sklearn import svm\n",
        "from sklearn.svm import SVR\n",
        "from sklearn.linear_model import LinearRegression, Ridge, Lasso, LogisticRegression\n",
        "from sklearn.ensemble import RandomForestRegressor, GradientBoostingRegressor, RandomForestClassifier\n",
        "from sklearn.neighbors import KNeighborsRegressor\n",
        "\n",
        "from sklearn.model_selection import GridSearchCV\n",
        "from sklearn.model_selection import RandomizedSearchCV\n",
        "from sklearn.model_selection import train_test_split\n",
        "from sklearn.model_selection import KFold, StratifiedKFold, GroupKFold\n",
        "from sklearn.model_selection import cross_val_score\n",
        "\n",
        "from sklearn.metrics import mean_squared_error, mean_absolute_error, r2_score, mean_absolute_percentage_error, f1_score\n",
        "from sklearn.metrics import accuracy_score,  precision_score, recall_score, confusion_matrix, roc_auc_score\n",
        "\n",
        "# import dask.array as da\n",
        "\n",
        "import lightgbm as lgb\n",
        "\n",
        "# Neural Language Processing\n",
        "from sklearn.feature_extraction.text import TfidfVectorizer, CountVectorizer\n",
        "from sklearn.feature_selection import SelectKBest\n",
        "\n",
        "from sklearn.linear_model import RidgeClassifier\n",
        "import MeCab\n",
        "\n",
        "import nltk\n",
        "from nltk.corpus import stopwords\n",
        "from nltk.stem.porter import PorterStemmer"
      ],
      "metadata": {
        "id": "Z4O7C_SIg18O"
      },
      "execution_count": 2,
      "outputs": []
    },
    {
      "cell_type": "markdown",
      "source": [
        "## 50. データの入手・整形\n",
        "News Aggregator Data Setをダウンロードし、以下の要領で学習データ（train.txt），検証データ（valid.txt），評価データ（test.txt）を作成せよ．  \n",
        "\n",
        "1. ダウンロードしたzipファイルを解凍し，readme.txtの説明を読む．  \n",
        "2. 情報源（publisher）が”Reuters”, “Huffington Post”, “Businessweek”, “Contactmusic.com”, “Daily Mail”の事例（記事）のみを抽出する．  \n",
        "3. 抽出された事例をランダムに並び替える．  \n",
        "4. 抽出された事例の80%を学習データ，残りの10%ずつを検証データと評価データに分割し，それぞれtrain.txt，valid.txt，test.txtというファイル名で保存する．ファイルには，１行に１事例を書き出すこととし，カテゴリ名と記事見出しのタブ区切り形式とせよ（このファイルは後に問題70で再利用する）．  \n",
        "5. 学習データと評価データを作成したら，各カテゴリの事例数を確認せよ．\n",
        "\n",
        "\n",
        "\n"
      ],
      "metadata": {
        "id": "yd0u2TsIfVR8"
      }
    },
    {
      "cell_type": "code",
      "source": [
        "# 1. ダウンロードしたzipファイルを解凍し，readme.txtの説明を読む．\n",
        "!wget https://archive.ics.uci.edu/ml/machine-learning-databases/00359/NewsAggregatorDataset.zip --no-check-certificate\n",
        "!unzip ./NewsAggregatorDataset.zip"
      ],
      "metadata": {
        "colab": {
          "base_uri": "https://localhost:8080/"
        },
        "id": "X2fwMiQOfiO4",
        "outputId": "f30232ba-c966-43a5-8e28-ed59656a9a35"
      },
      "execution_count": 3,
      "outputs": [
        {
          "output_type": "stream",
          "name": "stdout",
          "text": [
            "--2024-05-04 04:54:11--  https://archive.ics.uci.edu/ml/machine-learning-databases/00359/NewsAggregatorDataset.zip\n",
            "Resolving archive.ics.uci.edu (archive.ics.uci.edu)... 128.195.10.252\n",
            "Connecting to archive.ics.uci.edu (archive.ics.uci.edu)|128.195.10.252|:443... connected.\n",
            "HTTP request sent, awaiting response... 200 OK\n",
            "Length: unspecified\n",
            "Saving to: ‘NewsAggregatorDataset.zip’\n",
            "\n",
            "NewsAggregatorDatas     [         <=>        ]  27.87M  10.1MB/s    in 2.8s    \n",
            "\n",
            "2024-05-04 04:54:14 (10.1 MB/s) - ‘NewsAggregatorDataset.zip’ saved [29224203]\n",
            "\n",
            "Archive:  ./NewsAggregatorDataset.zip\n",
            "  inflating: 2pageSessions.csv       \n",
            "   creating: __MACOSX/\n",
            "  inflating: __MACOSX/._2pageSessions.csv  \n",
            "  inflating: newsCorpora.csv         \n",
            "  inflating: __MACOSX/._newsCorpora.csv  \n",
            "  inflating: readme.txt              \n",
            "  inflating: __MACOSX/._readme.txt   \n"
          ]
        }
      ]
    },
    {
      "cell_type": "code",
      "source": [
        "# 2. 情報源（publisher）が”Reuters”, “Huffington Post”, “Businessweek”, “Contactmusic.com”, “Daily Mail”の事例（記事）のみを抽出する．\n",
        "data0 = pd.read_csv('newsCorpora.csv',sep='\\t',header=None,\n",
        "                 names=[\"ID\", \"TITLE\", \"URL\", \"PUBLISHER\", \"CATEGORY\", \"STORY\", \"HOSTNAME\", \"TIMESTAMP\"])\n",
        "data = data0[data0['PUBLISHER'].isin([\"Reuters\", \"Huffington Post\", \"Businessweek\", \"Contactmusic.com\", \"Daily Mail\"])]"
      ],
      "metadata": {
        "id": "oOwR9xBShKb-"
      },
      "execution_count": 4,
      "outputs": []
    },
    {
      "cell_type": "code",
      "source": [
        "# 3. 抽出された事例をランダムに並び替える．\n",
        "# 4. 抽出された事例の80%を学習データ，残りの10%ずつを検証データと評価データに分割し，それぞれtrain.txt，valid.txt，test.txtというファイル名で保存する．ファイルには，１行に１事例を書き出すこととし，カテゴリ名と記事見出しのタブ区切り形式とせよ（このファイルは後に問題70で再利用する）．\n",
        "train0, test = train_test_split(data, test_size=0.1, shuffle=True)\n",
        "train, val = train_test_split(train0, test_size=0.1, shuffle=True)"
      ],
      "metadata": {
        "id": "TMm90tHGiIqg"
      },
      "execution_count": 5,
      "outputs": []
    },
    {
      "cell_type": "code",
      "source": [
        "# 4. 抽出された事例の80%を学習データ，残りの10%ずつを検証データと評価データに分割し，それぞれtrain.txt，valid.txt，test.txtというファイル名で保存する．ファイルには，１行に１事例を書き出すこととし，カテゴリ名と記事見出しのタブ区切り形式とせよ（このファイルは後に問題70で再利用する）．\n",
        "train.to_csv(\"train.txt\", sep=\"\\t\", index=False, header=None)\n",
        "val.to_csv(\"valid.txt\", sep=\"\\t\", index=False, header=None)\n",
        "test.to_csv(\"test.txt\", sep=\"\\t\", index=False, header=None)"
      ],
      "metadata": {
        "id": "r4_66AdvizO_"
      },
      "execution_count": 6,
      "outputs": []
    },
    {
      "cell_type": "code",
      "source": [
        "# 5. 学習データと評価データを作成したら，各カテゴリの事例数を確認せよ．\n",
        "print(\"train:{}\\nvalid:{}\\ntest:{}\".format(train.shape, val.shape, test.shape))"
      ],
      "metadata": {
        "colab": {
          "base_uri": "https://localhost:8080/"
        },
        "id": "KrtRRQXEk7_b",
        "outputId": "4a187cc3-4661-47e3-fc67-63879995db07"
      },
      "execution_count": 7,
      "outputs": [
        {
          "output_type": "stream",
          "name": "stdout",
          "text": [
            "train:(10805, 8)\n",
            "valid:(1201, 8)\n",
            "test:(1334, 8)\n"
          ]
        }
      ]
    },
    {
      "cell_type": "markdown",
      "source": [
        "## 51. 特徴量抽出  \n",
        "学習データ，検証データ，評価データから特徴量を抽出し，それぞれtrain.feature.txt，valid.feature.txt，test.feature.txtというファイル名で保存せよ．   \n",
        "なお，カテゴリ分類に有用そうな特徴量は各自で自由に設計せよ．記事の見出しを単語列に変換したものが最低限のベースラインとなるであろう．  "
      ],
      "metadata": {
        "id": "dKQsynBjl48L"
      }
    },
    {
      "cell_type": "code",
      "source": [
        "# 前処理（大文字をすべて小文字にする、数字を削除）\n",
        "def preprocessing(text):\n",
        "  text = \"\".join([i for i in text if i not in string.punctuation])\n",
        "  text = text.lower()\n",
        "  text = re.sub(\"[0-9]+\", \"\", text)\n",
        "  return text"
      ],
      "metadata": {
        "id": "Ppa7WHmno-XO"
      },
      "execution_count": 8,
      "outputs": []
    },
    {
      "cell_type": "code",
      "source": [
        "# データを特徴量に変換\n",
        "## TITLE を小文字にする\n",
        "data['TITLE'] = data['TITLE'].apply(lambda x: preprocessing(x))"
      ],
      "metadata": {
        "colab": {
          "base_uri": "https://localhost:8080/"
        },
        "id": "zFKtxolTmFfn",
        "outputId": "10edd968-552b-4b96-eccb-aa6b1795c905"
      },
      "execution_count": 9,
      "outputs": [
        {
          "output_type": "stream",
          "name": "stderr",
          "text": [
            "<ipython-input-9-dd55ff3a89e3>:3: SettingWithCopyWarning: \n",
            "A value is trying to be set on a copy of a slice from a DataFrame.\n",
            "Try using .loc[row_indexer,col_indexer] = value instead\n",
            "\n",
            "See the caveats in the documentation: https://pandas.pydata.org/pandas-docs/stable/user_guide/indexing.html#returning-a-view-versus-a-copy\n",
            "  data['TITLE'] = data['TITLE'].apply(lambda x: preprocessing(x))\n"
          ]
        }
      ]
    },
    {
      "cell_type": "code",
      "source": [
        "## 1-gram, 2-gramでTfidfを計算\n",
        "vectorizer = TfidfVectorizer(min_df=10, ngram_range=(1, 2))\n",
        "\n",
        "X = vectorizer.fit_transform(data['TITLE']).toarray()\n",
        "X = pd.DataFrame(X, columns=vectorizer.get_feature_names_out())"
      ],
      "metadata": {
        "id": "qIGVnqgTp0RP"
      },
      "execution_count": 10,
      "outputs": []
    },
    {
      "cell_type": "code",
      "source": [
        "X_train0, X_test = train_test_split(X, test_size=0.1, shuffle=True)\n",
        "X_train, X_val = train_test_split(X_train0, test_size=0.1, shuffle=True)"
      ],
      "metadata": {
        "id": "vw20W1kTr4Sw"
      },
      "execution_count": 11,
      "outputs": []
    },
    {
      "cell_type": "code",
      "source": [
        "X_train.to_csv(\"train.feature.txt\", sep=\"\\t\", index=False, header=None)\n",
        "X_val.to_csv(\"valid.feature.txt\", sep=\"\\t\", index=False, header=None)\n",
        "X_test.to_csv(\"test.feature.txt\", sep=\"\\t\", index=False, header=None)"
      ],
      "metadata": {
        "id": "fZBob-GqsMm5"
      },
      "execution_count": 12,
      "outputs": []
    },
    {
      "cell_type": "markdown",
      "source": [
        "## 52. 学習\n",
        "51で構築した学習データを用いて，ロジスティック回帰モデルを学習せよ．"
      ],
      "metadata": {
        "id": "jdoasGzetQIR"
      }
    },
    {
      "cell_type": "code",
      "source": [
        "y_train = data.iloc[X_train.index]['CATEGORY']\n",
        "y_val = data.iloc[X_val.index]['CATEGORY']\n",
        "y_test = data.iloc[X_test.index]['CATEGORY']"
      ],
      "metadata": {
        "id": "lriwaZWwsbpF"
      },
      "execution_count": 13,
      "outputs": []
    },
    {
      "cell_type": "markdown",
      "source": [
        "【補足】ロジスティック回帰  \n",
        "- 予測値を 0 ~ 1 に変換  \n",
        "- 確率が高いカテゴリを選択  \n",
        "  \n",
        "$\\sigma(x) = \\frac{1}{1 + \\exp^{-x}}$"
      ],
      "metadata": {
        "id": "uHYekKHovMVS"
      }
    },
    {
      "cell_type": "code",
      "source": [
        "model = LogisticRegression(random_state=64, max_iter=10000)\n",
        "model.fit(X_train,y_train)"
      ],
      "metadata": {
        "colab": {
          "base_uri": "https://localhost:8080/",
          "height": 74
        },
        "id": "-D00XqTZtaEY",
        "outputId": "d0bf0580-de66-4359-97e7-4ad8465ecb1c"
      },
      "execution_count": 14,
      "outputs": [
        {
          "output_type": "execute_result",
          "data": {
            "text/plain": [
              "LogisticRegression(max_iter=10000, random_state=64)"
            ],
            "text/html": [
              "<style>#sk-container-id-1 {color: black;background-color: white;}#sk-container-id-1 pre{padding: 0;}#sk-container-id-1 div.sk-toggleable {background-color: white;}#sk-container-id-1 label.sk-toggleable__label {cursor: pointer;display: block;width: 100%;margin-bottom: 0;padding: 0.3em;box-sizing: border-box;text-align: center;}#sk-container-id-1 label.sk-toggleable__label-arrow:before {content: \"▸\";float: left;margin-right: 0.25em;color: #696969;}#sk-container-id-1 label.sk-toggleable__label-arrow:hover:before {color: black;}#sk-container-id-1 div.sk-estimator:hover label.sk-toggleable__label-arrow:before {color: black;}#sk-container-id-1 div.sk-toggleable__content {max-height: 0;max-width: 0;overflow: hidden;text-align: left;background-color: #f0f8ff;}#sk-container-id-1 div.sk-toggleable__content pre {margin: 0.2em;color: black;border-radius: 0.25em;background-color: #f0f8ff;}#sk-container-id-1 input.sk-toggleable__control:checked~div.sk-toggleable__content {max-height: 200px;max-width: 100%;overflow: auto;}#sk-container-id-1 input.sk-toggleable__control:checked~label.sk-toggleable__label-arrow:before {content: \"▾\";}#sk-container-id-1 div.sk-estimator input.sk-toggleable__control:checked~label.sk-toggleable__label {background-color: #d4ebff;}#sk-container-id-1 div.sk-label input.sk-toggleable__control:checked~label.sk-toggleable__label {background-color: #d4ebff;}#sk-container-id-1 input.sk-hidden--visually {border: 0;clip: rect(1px 1px 1px 1px);clip: rect(1px, 1px, 1px, 1px);height: 1px;margin: -1px;overflow: hidden;padding: 0;position: absolute;width: 1px;}#sk-container-id-1 div.sk-estimator {font-family: monospace;background-color: #f0f8ff;border: 1px dotted black;border-radius: 0.25em;box-sizing: border-box;margin-bottom: 0.5em;}#sk-container-id-1 div.sk-estimator:hover {background-color: #d4ebff;}#sk-container-id-1 div.sk-parallel-item::after {content: \"\";width: 100%;border-bottom: 1px solid gray;flex-grow: 1;}#sk-container-id-1 div.sk-label:hover label.sk-toggleable__label {background-color: #d4ebff;}#sk-container-id-1 div.sk-serial::before {content: \"\";position: absolute;border-left: 1px solid gray;box-sizing: border-box;top: 0;bottom: 0;left: 50%;z-index: 0;}#sk-container-id-1 div.sk-serial {display: flex;flex-direction: column;align-items: center;background-color: white;padding-right: 0.2em;padding-left: 0.2em;position: relative;}#sk-container-id-1 div.sk-item {position: relative;z-index: 1;}#sk-container-id-1 div.sk-parallel {display: flex;align-items: stretch;justify-content: center;background-color: white;position: relative;}#sk-container-id-1 div.sk-item::before, #sk-container-id-1 div.sk-parallel-item::before {content: \"\";position: absolute;border-left: 1px solid gray;box-sizing: border-box;top: 0;bottom: 0;left: 50%;z-index: -1;}#sk-container-id-1 div.sk-parallel-item {display: flex;flex-direction: column;z-index: 1;position: relative;background-color: white;}#sk-container-id-1 div.sk-parallel-item:first-child::after {align-self: flex-end;width: 50%;}#sk-container-id-1 div.sk-parallel-item:last-child::after {align-self: flex-start;width: 50%;}#sk-container-id-1 div.sk-parallel-item:only-child::after {width: 0;}#sk-container-id-1 div.sk-dashed-wrapped {border: 1px dashed gray;margin: 0 0.4em 0.5em 0.4em;box-sizing: border-box;padding-bottom: 0.4em;background-color: white;}#sk-container-id-1 div.sk-label label {font-family: monospace;font-weight: bold;display: inline-block;line-height: 1.2em;}#sk-container-id-1 div.sk-label-container {text-align: center;}#sk-container-id-1 div.sk-container {/* jupyter's `normalize.less` sets `[hidden] { display: none; }` but bootstrap.min.css set `[hidden] { display: none !important; }` so we also need the `!important` here to be able to override the default hidden behavior on the sphinx rendered scikit-learn.org. See: https://github.com/scikit-learn/scikit-learn/issues/21755 */display: inline-block !important;position: relative;}#sk-container-id-1 div.sk-text-repr-fallback {display: none;}</style><div id=\"sk-container-id-1\" class=\"sk-top-container\"><div class=\"sk-text-repr-fallback\"><pre>LogisticRegression(max_iter=10000, random_state=64)</pre><b>In a Jupyter environment, please rerun this cell to show the HTML representation or trust the notebook. <br />On GitHub, the HTML representation is unable to render, please try loading this page with nbviewer.org.</b></div><div class=\"sk-container\" hidden><div class=\"sk-item\"><div class=\"sk-estimator sk-toggleable\"><input class=\"sk-toggleable__control sk-hidden--visually\" id=\"sk-estimator-id-1\" type=\"checkbox\" checked><label for=\"sk-estimator-id-1\" class=\"sk-toggleable__label sk-toggleable__label-arrow\">LogisticRegression</label><div class=\"sk-toggleable__content\"><pre>LogisticRegression(max_iter=10000, random_state=64)</pre></div></div></div></div></div>"
            ]
          },
          "metadata": {},
          "execution_count": 14
        }
      ]
    },
    {
      "cell_type": "markdown",
      "source": [
        "## 53. 予測  \n",
        "52で学習したロジスティック回帰モデルを用い，与えられた記事見出しからカテゴリとその予測確率を計算するプログラムを実装せよ．  "
      ],
      "metadata": {
        "id": "MQfW1qaExbXC"
      }
    },
    {
      "cell_type": "code",
      "source": [
        "y_val_pred = model.predict(X_val)\n",
        "y_val_pred_proba = model.predict_proba(X_val)"
      ],
      "metadata": {
        "id": "HJkGLN1_xYkM"
      },
      "execution_count": 15,
      "outputs": []
    },
    {
      "cell_type": "code",
      "source": [
        "y_val_pred"
      ],
      "metadata": {
        "colab": {
          "base_uri": "https://localhost:8080/"
        },
        "id": "44i1GX3Wx5Sq",
        "outputId": "ef8e9451-24ac-42c0-d250-37d39c512c07"
      },
      "execution_count": 16,
      "outputs": [
        {
          "output_type": "execute_result",
          "data": {
            "text/plain": [
              "array(['e', 't', 'e', ..., 't', 'b', 'e'], dtype=object)"
            ]
          },
          "metadata": {},
          "execution_count": 16
        }
      ]
    },
    {
      "cell_type": "code",
      "source": [
        "y_val_pred_proba"
      ],
      "metadata": {
        "colab": {
          "base_uri": "https://localhost:8080/"
        },
        "id": "9at6uSdNx7XU",
        "outputId": "3008f7c9-ec9b-4d9f-e61d-3cda822dd1d6"
      },
      "execution_count": 17,
      "outputs": [
        {
          "output_type": "execute_result",
          "data": {
            "text/plain": [
              "array([[0.09575289, 0.7728091 , 0.05114348, 0.08029453],\n",
              "       [0.13517051, 0.18347642, 0.03441229, 0.64694078],\n",
              "       [0.19869367, 0.68320042, 0.0441634 , 0.07394251],\n",
              "       ...,\n",
              "       [0.04139323, 0.07181833, 0.00809675, 0.87869169],\n",
              "       [0.62847976, 0.09382522, 0.02816637, 0.24952865],\n",
              "       [0.19634724, 0.63815145, 0.11910773, 0.04639358]])"
            ]
          },
          "metadata": {},
          "execution_count": 17
        }
      ]
    },
    {
      "cell_type": "markdown",
      "source": [
        "## 54. 正解率の計測  \n",
        "52で学習したロジスティック回帰モデルの正解率を，学習データおよび評価データ上で計測せよ．  "
      ],
      "metadata": {
        "id": "-wnT41ckyRfv"
      }
    },
    {
      "cell_type": "code",
      "source": [
        "y_train_pred = model.predict(X_train)\n",
        "y_test_pred = model.predict(X_test)"
      ],
      "metadata": {
        "id": "Z7jVPjplyTLT"
      },
      "execution_count": 18,
      "outputs": []
    },
    {
      "cell_type": "code",
      "source": [
        "print(\"Train Score: {}\\nTest Score: {}\".format(accuracy_score(y_train_pred,y_train), accuracy_score(y_test_pred,y_test)))"
      ],
      "metadata": {
        "colab": {
          "base_uri": "https://localhost:8080/"
        },
        "id": "Cy0fklRyyW0L",
        "outputId": "62f078a3-b9f5-4895-c4e1-bf6b7390fe05"
      },
      "execution_count": 19,
      "outputs": [
        {
          "output_type": "stream",
          "name": "stdout",
          "text": [
            "Train Score: 0.9221656640444239\n",
            "Test Score: 0.8740629685157422\n"
          ]
        }
      ]
    },
    {
      "cell_type": "markdown",
      "source": [
        "## 55. 混同行列の作成  \n",
        "52で学習したロジスティック回帰モデルの混同行列（confusion matrix）を，学習データおよび評価データ上で作成せよ．  "
      ],
      "metadata": {
        "id": "1FxEavtuytdq"
      }
    },
    {
      "cell_type": "code",
      "source": [
        "print(\"Train Confusion Matrix\\n\\n{}\".format(confusion_matrix(y_train_pred,y_train)))"
      ],
      "metadata": {
        "colab": {
          "base_uri": "https://localhost:8080/"
        },
        "id": "SlWW7usuybbj",
        "outputId": "86be0d4a-877d-4473-dcb2-36876e6c4bae"
      },
      "execution_count": 20,
      "outputs": [
        {
          "output_type": "stream",
          "name": "stdout",
          "text": [
            "Train Confusion Matrix\n",
            "\n",
            "[[4405   63  109  210]\n",
            " [ 101 4206  124  141]\n",
            " [   9    1  479    6]\n",
            " [  54    9   14  874]]\n"
          ]
        }
      ]
    },
    {
      "cell_type": "code",
      "source": [
        "sns.heatmap(confusion_matrix(y_train_pred,y_train), vmin=0, vmax=500, annot=True, fmt='d', cmap='Blues')"
      ],
      "metadata": {
        "colab": {
          "base_uri": "https://localhost:8080/",
          "height": 453
        },
        "id": "pSkRGYDZy37a",
        "outputId": "4daca1e6-f0b6-488b-82b6-682bf11962fb"
      },
      "execution_count": 21,
      "outputs": [
        {
          "output_type": "execute_result",
          "data": {
            "text/plain": [
              "<Axes: >"
            ]
          },
          "metadata": {},
          "execution_count": 21
        },
        {
          "output_type": "display_data",
          "data": {
            "text/plain": [
              "<Figure size 640x480 with 2 Axes>"
            ],
            "image/png": "[encoded data removed]"
          },
          "metadata": {}
        }
      ]
    },
    {
      "cell_type": "code",
      "source": [
        "print(\"Test Confusion Matrix\\n\\n{}\".format(confusion_matrix(y_test_pred,y_test)))"
      ],
      "metadata": {
        "colab": {
          "base_uri": "https://localhost:8080/"
        },
        "id": "SxUpBOaazRyU",
        "outputId": "59cafe2a-4a11-49ea-e1c4-35de414a535e"
      },
      "execution_count": 22,
      "outputs": [
        {
          "output_type": "stream",
          "name": "stdout",
          "text": [
            "Test Confusion Matrix\n",
            "\n",
            "[[537  19  23  32]\n",
            " [ 18 504  23  36]\n",
            " [  0   0  49   1]\n",
            " [  9   2   5  76]]\n"
          ]
        }
      ]
    },
    {
      "cell_type": "code",
      "source": [
        "sns.heatmap(confusion_matrix(y_test_pred,y_test), vmin=0, vmax=500, annot=True, fmt='d', cmap='Blues')"
      ],
      "metadata": {
        "colab": {
          "base_uri": "https://localhost:8080/",
          "height": 453
        },
        "id": "CE7DYGLCzXbk",
        "outputId": "f5f96555-5cf3-4c21-f491-a29024807613"
      },
      "execution_count": 23,
      "outputs": [
        {
          "output_type": "execute_result",
          "data": {
            "text/plain": [
              "<Axes: >"
            ]
          },
          "metadata": {},
          "execution_count": 23
        },
        {
          "output_type": "display_data",
          "data": {
            "text/plain": [
              "<Figure size 640x480 with 2 Axes>"
            ],
            "image/png": "[encoded data removed]"
          },
          "metadata": {}
        }
      ]
    },
    {
      "cell_type": "markdown",
      "source": [
        "## 56. 適合率，再現率，F1スコアの計測  \n",
        "52で学習したロジスティック回帰モデルの適合率，再現率，F1スコアを，評価データ上で計測せよ．  \n",
        "カテゴリごとに適合率，再現率，F1スコアを求め，カテゴリごとの性能をマイクロ平均（micro-average）とマクロ平均（macro-average）で統合せよ．  "
      ],
      "metadata": {
        "id": "ANs7I_dUzdPu"
      }
    },
    {
      "cell_type": "code",
      "source": [
        "micro_pricision = precision_score(y_test_pred, y_test, average='micro')\n",
        "macro_pricision = precision_score(y_test_pred, y_test, average='macro')\n",
        "print(\"適合率\")\n",
        "print(\"マイクロ平均 : {}\".format(micro_pricision))\n",
        "print(\"マクロ平均 : {}\".format(macro_pricision))"
      ],
      "metadata": {
        "colab": {
          "base_uri": "https://localhost:8080/"
        },
        "id": "w5zO6er7zY1N",
        "outputId": "3501cf0a-c132-4b3f-9fd1-bbd7aa332c71"
      },
      "execution_count": 24,
      "outputs": [
        {
          "output_type": "stream",
          "name": "stdout",
          "text": [
            "適合率\n",
            "マイクロ平均 : 0.8740629685157422\n",
            "マクロ平均 : 0.7315663976522377\n"
          ]
        }
      ]
    },
    {
      "cell_type": "code",
      "source": [
        "micro_recall = recall_score(y_test_pred, y_test, average='micro')\n",
        "macro_recall = recall_score(y_test_pred, y_test, average='macro')\n",
        "print(\"再現率\")\n",
        "print(\"マイクロ平均 : {}\".format(micro_recall))\n",
        "print(\"マクロ平均 : {}\".format(macro_recall))"
      ],
      "metadata": {
        "colab": {
          "base_uri": "https://localhost:8080/"
        },
        "id": "vzZSTtkWzkDL",
        "outputId": "2af96538-1a84-43d7-ae49-8e2c35bb668e"
      },
      "execution_count": 25,
      "outputs": [
        {
          "output_type": "stream",
          "name": "stdout",
          "text": [
            "再現率\n",
            "マイクロ平均 : 0.8740629685157422\n",
            "マクロ平均 : 0.8881109766040609\n"
          ]
        }
      ]
    },
    {
      "cell_type": "code",
      "source": [
        "micro_f1 = f1_score(y_test_pred, y_test, average='micro')\n",
        "macro_f1 = f1_score(y_test_pred, y_test, average='macro')\n",
        "print(\"F1スコア\")\n",
        "print(\"マイクロ平均 : {}\".format(micro_f1))\n",
        "print(\"マクロ平均 : {}\".format(macro_f1))"
      ],
      "metadata": {
        "colab": {
          "base_uri": "https://localhost:8080/"
        },
        "id": "OT6MTuJgznIF",
        "outputId": "d0ebfa5d-d6db-48b4-b4aa-0f0725510334"
      },
      "execution_count": 26,
      "outputs": [
        {
          "output_type": "stream",
          "name": "stdout",
          "text": [
            "F1スコア\n",
            "マイクロ平均 : 0.8740629685157422\n",
            "マクロ平均 : 0.7800296256396445\n"
          ]
        }
      ]
    },
    {
      "cell_type": "markdown",
      "source": [
        "## 57. 特徴量の重みの確認  \n",
        "52で学習したロジスティック回帰モデルの中で，重みの高い特徴量トップ10と，重みの低い特徴量トップ10を確認せよ  "
      ],
      "metadata": {
        "id": "nvzjTA3A4wNH"
      }
    },
    {
      "cell_type": "code",
      "source": [
        "features = X_train.columns.values"
      ],
      "metadata": {
        "id": "C9_8vsLx4vux"
      },
      "execution_count": 27,
      "outputs": []
    },
    {
      "cell_type": "code",
      "source": [
        "features"
      ],
      "metadata": {
        "colab": {
          "base_uri": "https://localhost:8080/"
        },
        "id": "dqbfsYkd5bJf",
        "outputId": "1bb62050-f777-4819-f55a-b8c1e43039f3"
      },
      "execution_count": 28,
      "outputs": [
        {
          "output_type": "execute_result",
          "data": {
            "text/plain": [
              "array(['aa', 'aaliyah', 'abbvie', ..., 'zac efron', 'zendaya', 'zone'],\n",
              "      dtype=object)"
            ]
          },
          "metadata": {},
          "execution_count": 28
        }
      ]
    },
    {
      "cell_type": "code",
      "source": [
        "for c, coef in zip(model.classes_, model.coef_):\n",
        "  #print(c,coef)\n",
        "  #print(sorted(coef))\n",
        "  #print(np.argsort(coef))\n",
        "  idx_top5 = np.argsort((-1)*coef)\n",
        "  idx_worst5 = np.argsort(coef)\n",
        "  #print(idx)\n",
        "\n",
        "  print(\"Top 10 Features in Class '{}'\".format(c))\n",
        "  for i,top in enumerate(features[idx_top5][:10]):\n",
        "    print(\"{} : {}\".format(i+1,top))\n",
        "\n",
        "  print(\"\\nWorst 10 Features in Class '{}'\".format(c))\n",
        "  for j,worst in enumerate(features[idx_worst5][:10]):\n",
        "    print(\"{} : {}\".format(j+1,worst))\n",
        "\n",
        "  print(\"\\n\")"
      ],
      "metadata": {
        "colab": {
          "base_uri": "https://localhost:8080/"
        },
        "id": "DqNN5zRd50RJ",
        "outputId": "fa681a69-bcb1-4e66-ee7a-0adf513d388b"
      },
      "execution_count": 29,
      "outputs": [
        {
          "output_type": "stream",
          "name": "stdout",
          "text": [
            "Top 10 Features in Class 'b'\n",
            "1 : bank\n",
            "2 : fed\n",
            "3 : ecb\n",
            "4 : euro\n",
            "5 : stocks\n",
            "6 : oil\n",
            "7 : ukraine\n",
            "8 : china\n",
            "9 : profit\n",
            "10 : obamacare\n",
            "\n",
            "Worst 10 Features in Class 'b'\n",
            "1 : ebola\n",
            "2 : her\n",
            "3 : facebook\n",
            "4 : video\n",
            "5 : star\n",
            "6 : the\n",
            "7 : she\n",
            "8 : tv\n",
            "9 : google\n",
            "10 : comcast\n",
            "\n",
            "\n",
            "Top 10 Features in Class 'e'\n",
            "1 : chris\n",
            "2 : kardashian\n",
            "3 : her\n",
            "4 : movie\n",
            "5 : wedding\n",
            "6 : kim\n",
            "7 : film\n",
            "8 : paul\n",
            "9 : star\n",
            "10 : she\n",
            "\n",
            "Worst 10 Features in Class 'e'\n",
            "1 : us\n",
            "2 : update\n",
            "3 : google\n",
            "4 : says\n",
            "5 : study\n",
            "6 : china\n",
            "7 : gm\n",
            "8 : ceo\n",
            "9 : billion\n",
            "10 : data\n",
            "\n",
            "\n",
            "Top 10 Features in Class 'm'\n",
            "1 : ebola\n",
            "2 : study\n",
            "3 : cancer\n",
            "4 : fda\n",
            "5 : drug\n",
            "6 : mers\n",
            "7 : medical\n",
            "8 : health\n",
            "9 : cases\n",
            "10 : could\n",
            "\n",
            "Worst 10 Features in Class 'm'\n",
            "1 : gm\n",
            "2 : deal\n",
            "3 : facebook\n",
            "4 : apple\n",
            "5 : ceo\n",
            "6 : amazon\n",
            "7 : sales\n",
            "8 : climate\n",
            "9 : google\n",
            "10 : profit\n",
            "\n",
            "\n",
            "Top 10 Features in Class 't'\n",
            "1 : google\n",
            "2 : facebook\n",
            "3 : apple\n",
            "4 : microsoft\n",
            "5 : climate\n",
            "6 : gm\n",
            "7 : tmobile\n",
            "8 : heartbleed\n",
            "9 : comcast\n",
            "10 : tesla\n",
            "\n",
            "Worst 10 Features in Class 't'\n",
            "1 : cancer\n",
            "2 : drug\n",
            "3 : fed\n",
            "4 : his\n",
            "5 : american\n",
            "6 : stocks\n",
            "7 : percent\n",
            "8 : ukraine\n",
            "9 : bank\n",
            "10 : men\n",
            "\n",
            "\n"
          ]
        }
      ]
    },
    {
      "cell_type": "markdown",
      "source": [
        "## 58. 正則化パラメータの変更  \n",
        "ロジスティック回帰モデルを学習するとき，正則化パラメータを調整することで，学習時の過学習（overfitting）の度合いを制御できる．  \n",
        "異なる正則化パラメータでロジスティック回帰モデルを学習し，学習データ，検証データ，および評価データ上の正解率を求めよ．  \n",
        "実験の結果は，正則化パラメータを横軸，正解率を縦軸としたグラフにまとめよ．"
      ],
      "metadata": {
        "id": "hZXplS8m1fp4"
      }
    },
    {
      "cell_type": "code",
      "source": [
        "scores = []\n",
        "for i, param in enumerate(np.logspace(-5, 4, 10, base=10)):\n",
        "  model0 = LogisticRegression(C=param)\n",
        "  model0.fit(X_train, y_train)\n",
        "\n",
        "  y_train_pred0 = model0.predict(X_train)\n",
        "  y_val_pred0 = model0.predict(X_val)\n",
        "  y_test_pred0 = model0.predict(X_test)\n",
        "\n",
        "  scores.append([\n",
        "      accuracy_score(y_train, y_train_pred0),\n",
        "      accuracy_score(y_val, y_val_pred0),\n",
        "      accuracy_score(y_test, y_test_pred0)\n",
        "  ])\n",
        "\n",
        "  print(\"{}:{}\".format(i+1,scores[-1]))"
      ],
      "metadata": {
        "colab": {
          "base_uri": "https://localhost:8080/"
        },
        "id": "MTluzZwi2RCH",
        "outputId": "96992279-b40d-485a-a3cb-994847cfddc2"
      },
      "execution_count": 30,
      "outputs": [
        {
          "output_type": "stream",
          "name": "stdout",
          "text": [
            "1:[0.42285978713558536, 0.4113238967527061, 0.42278860569715143]\n",
            "2:[0.42285978713558536, 0.4113238967527061, 0.42278860569715143]\n",
            "3:[0.46210087922258214, 0.443796835970025, 0.4505247376311844]\n",
            "4:[0.7552059231837113, 0.7285595337218984, 0.7413793103448276]\n",
            "5:[0.7989819527996298, 0.7726894254787677, 0.7788605697151424]\n"
          ]
        },
        {
          "output_type": "stream",
          "name": "stderr",
          "text": [
            "/usr/local/lib/python3.10/dist-packages/sklearn/linear_model/_logistic.py:458: ConvergenceWarning: lbfgs failed to converge (status=1):\n",
            "STOP: TOTAL NO. of ITERATIONS REACHED LIMIT.\n",
            "\n",
            "Increase the number of iterations (max_iter) or scale the data as shown in:\n",
            "    https://scikit-learn.org/stable/modules/preprocessing.html\n",
            "Please also refer to the documentation for alternative solver options:\n",
            "    https://scikit-learn.org/stable/modules/linear_model.html#logistic-regression\n",
            "  n_iter_i = _check_optimize_result(\n"
          ]
        },
        {
          "output_type": "stream",
          "name": "stdout",
          "text": [
            "6:[0.9221656640444239, 0.8734388009991674, 0.8740629685157422]\n"
          ]
        },
        {
          "output_type": "stream",
          "name": "stderr",
          "text": [
            "/usr/local/lib/python3.10/dist-packages/sklearn/linear_model/_logistic.py:458: ConvergenceWarning: lbfgs failed to converge (status=1):\n",
            "STOP: TOTAL NO. of ITERATIONS REACHED LIMIT.\n",
            "\n",
            "Increase the number of iterations (max_iter) or scale the data as shown in:\n",
            "    https://scikit-learn.org/stable/modules/preprocessing.html\n",
            "Please also refer to the documentation for alternative solver options:\n",
            "    https://scikit-learn.org/stable/modules/linear_model.html#logistic-regression\n",
            "  n_iter_i = _check_optimize_result(\n"
          ]
        },
        {
          "output_type": "stream",
          "name": "stdout",
          "text": [
            "7:[0.9771402128644147, 0.8817651956702748, 0.8943028485757122]\n"
          ]
        },
        {
          "output_type": "stream",
          "name": "stderr",
          "text": [
            "/usr/local/lib/python3.10/dist-packages/sklearn/linear_model/_logistic.py:458: ConvergenceWarning: lbfgs failed to converge (status=1):\n",
            "STOP: TOTAL NO. of ITERATIONS REACHED LIMIT.\n",
            "\n",
            "Increase the number of iterations (max_iter) or scale the data as shown in:\n",
            "    https://scikit-learn.org/stable/modules/preprocessing.html\n",
            "Please also refer to the documentation for alternative solver options:\n",
            "    https://scikit-learn.org/stable/modules/linear_model.html#logistic-regression\n",
            "  n_iter_i = _check_optimize_result(\n"
          ]
        },
        {
          "output_type": "stream",
          "name": "stdout",
          "text": [
            "8:[0.9955576122165664, 0.8701082431307244, 0.8868065967016492]\n"
          ]
        },
        {
          "output_type": "stream",
          "name": "stderr",
          "text": [
            "/usr/local/lib/python3.10/dist-packages/sklearn/linear_model/_logistic.py:458: ConvergenceWarning: lbfgs failed to converge (status=1):\n",
            "STOP: TOTAL NO. of ITERATIONS REACHED LIMIT.\n",
            "\n",
            "Increase the number of iterations (max_iter) or scale the data as shown in:\n",
            "    https://scikit-learn.org/stable/modules/preprocessing.html\n",
            "Please also refer to the documentation for alternative solver options:\n",
            "    https://scikit-learn.org/stable/modules/linear_model.html#logistic-regression\n",
            "  n_iter_i = _check_optimize_result(\n"
          ]
        },
        {
          "output_type": "stream",
          "name": "stdout",
          "text": [
            "9:[0.9980564553447479, 0.8717735220649458, 0.8800599700149925]\n"
          ]
        },
        {
          "output_type": "stream",
          "name": "stderr",
          "text": [
            "/usr/local/lib/python3.10/dist-packages/sklearn/linear_model/_logistic.py:458: ConvergenceWarning: lbfgs failed to converge (status=1):\n",
            "STOP: TOTAL NO. of ITERATIONS REACHED LIMIT.\n",
            "\n",
            "Increase the number of iterations (max_iter) or scale the data as shown in:\n",
            "    https://scikit-learn.org/stable/modules/preprocessing.html\n",
            "Please also refer to the documentation for alternative solver options:\n",
            "    https://scikit-learn.org/stable/modules/linear_model.html#logistic-regression\n",
            "  n_iter_i = _check_optimize_result(\n"
          ]
        },
        {
          "output_type": "stream",
          "name": "stdout",
          "text": [
            "10:[0.998611753817677, 0.8692756036636137, 0.8808095952023988]\n"
          ]
        }
      ]
    },
    {
      "cell_type": "code",
      "source": [
        "npscores = np.array(scores).T"
      ],
      "metadata": {
        "id": "1uZmLpU43YT4"
      },
      "execution_count": 31,
      "outputs": []
    },
    {
      "cell_type": "code",
      "source": [
        "for score, datatype in zip(npscores,['train','valid','test']):\n",
        "  plt.plot(np.logspace(-5, 4, 10, base=10), score, label=datatype)\n",
        "\n",
        "plt.ylim(0, 1.1)\n",
        "plt.xscale('log')\n",
        "plt.xlabel('Params', fontsize = 14)\n",
        "plt.ylabel('Accuracy', fontsize = 14)\n",
        "plt.tick_params(labelsize=14)\n",
        "plt.grid(True)\n",
        "plt.legend()"
      ],
      "metadata": {
        "colab": {
          "base_uri": "https://localhost:8080/",
          "height": 480
        },
        "id": "kyyBvmiT3Y1z",
        "outputId": "32dd638c-178a-460a-9e7a-1d7f32e93996"
      },
      "execution_count": 32,
      "outputs": [
        {
          "output_type": "execute_result",
          "data": {
            "text/plain": [
              "<matplotlib.legend.Legend at 0x7f2aba913fa0>"
            ]
          },
          "metadata": {},
          "execution_count": 32
        },
        {
          "output_type": "display_data",
          "data": {
            "text/plain": [
              "<Figure size 640x480 with 1 Axes>"
            ],
            "image/png": "[encoded data removed]"
          },
          "metadata": {}
        }
      ]
    },
    {
      "cell_type": "markdown",
      "source": [
        "## 59. ハイパーパラメータの探索  \n",
        "学習アルゴリズムや学習パラメータを変えながら，カテゴリ分類モデルを学習せよ．  \n",
        "検証データ上の正解率が最も高くなる学習アルゴリズム・パラメータを求めよ．  \n",
        "また，その学習アルゴリズム・パラメータを用いたときの評価データ上の正解率を求めよ．"
      ],
      "metadata": {
        "id": "Iax2zeqvA0dN"
      }
    },
    {
      "cell_type": "code",
      "source": [
        "params = {\"C\": [0.001, 0.005, 10]}\n",
        "\n",
        "gs_model = GridSearchCV(LogisticRegression(max_iter=2000),params, cv=6, verbose=1)\n",
        "gs_model.fit(X_train, y_train)\n",
        "\n",
        "best_gs_model = gs_model.best_estimator_\n",
        "print(\"\\ntrain_score: {:.2%}\".format(best_gs_model.score(X_train, y_train)))\n",
        "print(\"valid_score: {:.2%}\".format(best_gs_model.score(X_val, y_val)))\n",
        "print(\"test_score: {:.2%}\".format(best_gs_model.score(X_test, y_test)))"
      ],
      "metadata": {
        "colab": {
          "base_uri": "https://localhost:8080/"
        },
        "id": "WyPzi4wpAM96",
        "outputId": "d4325f03-da5e-459d-d3a6-8fac0ebacfa2"
      },
      "execution_count": 33,
      "outputs": [
        {
          "output_type": "stream",
          "name": "stdout",
          "text": [
            "Fitting 6 folds for each of 3 candidates, totalling 18 fits\n",
            "\n",
            "train_score: 97.80%\n",
            "valid_score: 88.01%\n",
            "test_score: 89.36%\n"
          ]
        }
      ]
    }
  ]
}