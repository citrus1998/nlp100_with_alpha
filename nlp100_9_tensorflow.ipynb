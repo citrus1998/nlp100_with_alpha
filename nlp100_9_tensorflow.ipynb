{
  "cells": [
    {
      "cell_type": "markdown",
      "metadata": {
        "id": "view-in-github",
        "colab_type": "text"
      },
      "source": [
        "<a href=\"https://colab.research.google.com/github/s528661/nlp100/blob/main/nlp100_9_tensorflow.ipynb\" target=\"_parent\"><img src=\"https://colab.research.google.com/assets/colab-badge.svg\" alt=\"Open In Colab\"/></a>"
      ]
    },
    {
      "cell_type": "code",
      "execution_count": 1,
      "metadata": {
        "colab": {
          "base_uri": "https://localhost:8080/"
        },
        "id": "-ovidjGCoeYU",
        "outputId": "fd2223f3-f852-4ca5-dba4-6a1801c38467"
      },
      "outputs": [
        {
          "output_type": "stream",
          "name": "stdout",
          "text": [
            "Collecting mecab-python3\n",
            "  Downloading mecab_python3-1.0.8-cp310-cp310-manylinux_2_17_x86_64.manylinux2014_x86_64.whl (581 kB)\n",
            "\u001b[2K     \u001b[90m━━━━━━━━━━━━━━━━━━━━━━━━━━━━━━━━━━━━━━━━\u001b[0m \u001b[32m581.7/581.7 kB\u001b[0m \u001b[31m4.8 MB/s\u001b[0m eta \u001b[36m0:00:00\u001b[0m\n",
            "\u001b[?25hInstalling collected packages: mecab-python3\n",
            "Successfully installed mecab-python3-1.0.8\n"
          ]
        }
      ],
      "source": [
        "!pip install mecab-python3"
      ]
    },
    {
      "cell_type": "code",
      "execution_count": 2,
      "metadata": {
        "id": "DD1LRbhEoodE"
      },
      "outputs": [],
      "source": [
        "import re,sys,os\n",
        "\n",
        "import pickle\n",
        "import time\n",
        "import copy\n",
        "\n",
        "import math\n",
        "import random\n",
        "import string\n",
        "\n",
        "from collections import defaultdict, Counter\n",
        "\n",
        "import numpy as np\n",
        "import pandas as pd\n",
        "import scipy as scp\n",
        "\n",
        "import matplotlib\n",
        "import matplotlib.pyplot as plt\n",
        "import seaborn as sns"
      ]
    },
    {
      "cell_type": "code",
      "execution_count": 3,
      "metadata": {
        "id": "pD3Yy99rotkK"
      },
      "outputs": [],
      "source": [
        "from sklearn import feature_extraction, preprocessing\n",
        "\n",
        "from sklearn import svm\n",
        "from sklearn.svm import SVR\n",
        "from sklearn.linear_model import LinearRegression, Ridge, Lasso, LogisticRegression\n",
        "from sklearn.ensemble import RandomForestRegressor, GradientBoostingRegressor, RandomForestClassifier\n",
        "from sklearn.neighbors import KNeighborsRegressor\n",
        "from sklearn.preprocessing import LabelEncoder, OneHotEncoder\n",
        "\n",
        "from sklearn.model_selection import GridSearchCV\n",
        "from sklearn.model_selection import RandomizedSearchCV\n",
        "from sklearn.model_selection import train_test_split\n",
        "from sklearn.model_selection import KFold, StratifiedKFold, GroupKFold\n",
        "from sklearn.model_selection import cross_val_score\n",
        "\n",
        "from sklearn.metrics import mean_squared_error, mean_absolute_error, r2_score, mean_absolute_percentage_error, f1_score\n",
        "from sklearn.metrics import accuracy_score,  precision_score, recall_score, confusion_matrix, roc_auc_score\n",
        "\n",
        "from sklearn.feature_selection import SelectKBest\n",
        "from sklearn.feature_extraction.text import TfidfVectorizer, CountVectorizer\n",
        "\n",
        "from sklearn.linear_model import RidgeClassifier"
      ]
    },
    {
      "cell_type": "code",
      "execution_count": 4,
      "metadata": {
        "id": "T1ksnW2bo3e-"
      },
      "outputs": [],
      "source": [
        "import MeCab\n",
        "\n",
        "import nltk\n",
        "from nltk.corpus import stopwords\n",
        "from nltk.stem.porter import PorterStemmer"
      ]
    },
    {
      "cell_type": "code",
      "execution_count": 5,
      "metadata": {
        "id": "rGPDyy4OGDu-"
      },
      "outputs": [],
      "source": [
        "import tensorflow as tf\n",
        "from tensorflow import keras, nn\n",
        "from keras import layers, optimizers, losses"
      ]
    },
    {
      "cell_type": "code",
      "execution_count": 6,
      "metadata": {
        "colab": {
          "base_uri": "https://localhost:8080/"
        },
        "id": "5jpNLqL19DWt",
        "outputId": "4af95b6f-1b05-4bcc-c78b-cb58f2cf5f60"
      },
      "outputs": [
        {
          "output_type": "stream",
          "name": "stdout",
          "text": [
            "--2024-01-06 03:17:20--  https://archive.ics.uci.edu/ml/machine-learning-databases/00359/NewsAggregatorDataset.zip\n",
            "Resolving archive.ics.uci.edu (archive.ics.uci.edu)... 128.195.10.252\n",
            "Connecting to archive.ics.uci.edu (archive.ics.uci.edu)|128.195.10.252|:443... connected.\n",
            "HTTP request sent, awaiting response... 200 OK\n",
            "Length: unspecified\n",
            "Saving to: ‘NewsAggregatorDataset.zip’\n",
            "\n",
            "NewsAggregatorDatas     [         <=>        ]  27.87M  11.4MB/s    in 2.5s    \n",
            "\n",
            "2024-01-06 03:17:24 (11.4 MB/s) - ‘NewsAggregatorDataset.zip’ saved [29224203]\n",
            "\n",
            "Archive:  ./NewsAggregatorDataset.zip\n",
            "  inflating: 2pageSessions.csv       \n",
            "   creating: __MACOSX/\n",
            "  inflating: __MACOSX/._2pageSessions.csv  \n",
            "  inflating: newsCorpora.csv         \n",
            "  inflating: __MACOSX/._newsCorpora.csv  \n",
            "  inflating: readme.txt              \n",
            "  inflating: __MACOSX/._readme.txt   \n"
          ]
        }
      ],
      "source": [
        "if not os.path.isfile('./NewsAggregatorDataset.zip'):\n",
        "  !wget https://archive.ics.uci.edu/ml/machine-learning-databases/00359/NewsAggregatorDataset.zip --no-check-certificate\n",
        "  !unzip ./NewsAggregatorDataset.zip"
      ]
    },
    {
      "cell_type": "markdown",
      "metadata": {
        "id": "jluArn7l9SLl"
      },
      "source": [
        "# 80. ID番号への変換\n",
        "\n",
        "問題51で構築した学習データ中の単語にユニークなID番号を付与したい．学習データ中で最も頻出する単語に1，2番目に頻出する単語に2，……といった方法で，学習データ中で2回以上出現する単語にID番号を付与せよ．そして，与えられた単語列に対して，ID番号の列を返す関数を実装せよ．ただし，出現頻度が2回未満の単語のID番号はすべて0とせよ．"
      ]
    },
    {
      "cell_type": "code",
      "execution_count": 7,
      "metadata": {
        "id": "cvOoYmgR9M5n"
      },
      "outputs": [],
      "source": [
        "data0 = pd.read_csv('newsCorpora.csv',delimiter='\\t',header=None,\n",
        "                 names=[\"ID\", \"TITLE\", \"URL\", \"PUBLISHER\", \"CATEGORY\", \"STORY\", \"HOSTNAME\", \"TIMESTAMP\"])"
      ]
    },
    {
      "cell_type": "code",
      "execution_count": 8,
      "metadata": {
        "id": "3SClCANi9cOt"
      },
      "outputs": [],
      "source": [
        "data = data0[data0['PUBLISHER'].isin([\"Reuters\", \"Huffington Post\", \"Businessweek\", \"Contactmusic.com\", \"Daily Mail\"])]"
      ]
    },
    {
      "cell_type": "code",
      "execution_count": 9,
      "metadata": {
        "colab": {
          "base_uri": "https://localhost:8080/",
          "height": 1000
        },
        "id": "JHNGcp4C9gA5",
        "outputId": "74d03f27-a35c-4cf8-fe77-dfdf3a691899"
      },
      "outputs": [
        {
          "output_type": "execute_result",
          "data": {
            "text/plain": [
              "            ID                                              TITLE  \\\n",
              "12          13       Europe reaches crunch point on banking union   \n",
              "13          14  ECB FOCUS-Stronger euro drowns out ECB's messa...   \n",
              "19          20  Euro Anxieties Wane as Bunds Top Treasuries, S...   \n",
              "20          21  Noyer Says Strong Euro Creates Unwarranted Eco...   \n",
              "29          30  REFILE-Bad loan triggers key feature in ECB ba...   \n",
              "...        ...                                                ...   \n",
              "422300  422819     UN: Ebola Could Eventually Infect 20000 People   \n",
              "422301  422820  Ebola toll tops 1550, continues to accelerate ...   \n",
              "422302  422821  UPDATE 1-Ebola toll tops 1550, outbreak accele...   \n",
              "422309  422828  Ebola Cases May Surpass 20000, WHO Says in Upd...   \n",
              "422319  422838  Air France suspends flights to Ebola-hit Sierr...   \n",
              "\n",
              "                                                      URL        PUBLISHER  \\\n",
              "12      http://in.reuters.com/article/2014/03/10/eu-ba...          Reuters   \n",
              "13      http://in.reuters.com/article/2014/03/10/ecb-p...          Reuters   \n",
              "19      http://www.businessweek.com/news/2014-03-10/ge...     Businessweek   \n",
              "20      http://www.businessweek.com/news/2014-03-10/no...     Businessweek   \n",
              "29      http://in.reuters.com/article/2014/03/10/euroz...          Reuters   \n",
              "...                                                   ...              ...   \n",
              "422300  http://www.huffingtonpost.com/2014/08/28/ebola...  Huffington Post   \n",
              "422301  http://in.reuters.com/article/2014/08/28/healt...          Reuters   \n",
              "422302  http://in.reuters.com/article/2014/08/28/healt...          Reuters   \n",
              "422309  http://www.businessweek.com/news/2014-08-28/eb...     Businessweek   \n",
              "422319  http://www.dailymail.co.uk/travel/travel_news/...       Daily Mail   \n",
              "\n",
              "       CATEGORY                          STORY                HOSTNAME  \\\n",
              "12            b  dPhGU51DcrolUIMxbRm0InaHGA2XM          in.reuters.com   \n",
              "13            b  dPhGU51DcrolUIMxbRm0InaHGA2XM          in.reuters.com   \n",
              "19            b  dPhGU51DcrolUIMxbRm0InaHGA2XM    www.businessweek.com   \n",
              "20            b  dPhGU51DcrolUIMxbRm0InaHGA2XM    www.businessweek.com   \n",
              "29            b  dPhGU51DcrolUIMxbRm0InaHGA2XM          in.reuters.com   \n",
              "...         ...                            ...                     ...   \n",
              "422300        m  dhhnSHVoyA7ENBM3boDX_D_-3PV6M  www.huffingtonpost.com   \n",
              "422301        m  dhhnSHVoyA7ENBM3boDX_D_-3PV6M          in.reuters.com   \n",
              "422302        m  dhhnSHVoyA7ENBM3boDX_D_-3PV6M          in.reuters.com   \n",
              "422309        m  dhhnSHVoyA7ENBM3boDX_D_-3PV6M    www.businessweek.com   \n",
              "422319        m  dhhnSHVoyA7ENBM3boDX_D_-3PV6M     www.dailymail.co.uk   \n",
              "\n",
              "            TIMESTAMP  \n",
              "12      1394470501755  \n",
              "13      1394470501948  \n",
              "19      1394470503148  \n",
              "20      1394470503366  \n",
              "29      1394470505070  \n",
              "...               ...  \n",
              "422300  1409228423333  \n",
              "422301  1409228423827  \n",
              "422302  1409228424525  \n",
              "422309  1409228426943  \n",
              "422319  1409228430383  \n",
              "\n",
              "[13340 rows x 8 columns]"
            ],
            "text/html": [
              "\n",
              "  <div id=\"df-ea3f031e-a538-4866-a967-3736a6ab994f\" class=\"colab-df-container\">\n",
              "    <div>\n",
              "<style scoped>\n",
              "    .dataframe tbody tr th:only-of-type {\n",
              "        vertical-align: middle;\n",
              "    }\n",
              "\n",
              "    .dataframe tbody tr th {\n",
              "        vertical-align: top;\n",
              "    }\n",
              "\n",
              "    .dataframe thead th {\n",
              "        text-align: right;\n",
              "    }\n",
              "</style>\n",
              "<table border=\"1\" class=\"dataframe\">\n",
              "  <thead>\n",
              "    <tr style=\"text-align: right;\">\n",
              "      <th></th>\n",
              "      <th>ID</th>\n",
              "      <th>TITLE</th>\n",
              "      <th>URL</th>\n",
              "      <th>PUBLISHER</th>\n",
              "      <th>CATEGORY</th>\n",
              "      <th>STORY</th>\n",
              "      <th>HOSTNAME</th>\n",
              "      <th>TIMESTAMP</th>\n",
              "    </tr>\n",
              "  </thead>\n",
              "  <tbody>\n",
              "    <tr>\n",
              "      <th>12</th>\n",
              "      <td>13</td>\n",
              "      <td>Europe reaches crunch point on banking union</td>\n",
              "      <td>http://in.reuters.com/article/2014/03/10/eu-ba...</td>\n",
              "      <td>Reuters</td>\n",
              "      <td>b</td>\n",
              "      <td>dPhGU51DcrolUIMxbRm0InaHGA2XM</td>\n",
              "      <td>in.reuters.com</td>\n",
              "      <td>1394470501755</td>\n",
              "    </tr>\n",
              "    <tr>\n",
              "      <th>13</th>\n",
              "      <td>14</td>\n",
              "      <td>ECB FOCUS-Stronger euro drowns out ECB's messa...</td>\n",
              "      <td>http://in.reuters.com/article/2014/03/10/ecb-p...</td>\n",
              "      <td>Reuters</td>\n",
              "      <td>b</td>\n",
              "      <td>dPhGU51DcrolUIMxbRm0InaHGA2XM</td>\n",
              "      <td>in.reuters.com</td>\n",
              "      <td>1394470501948</td>\n",
              "    </tr>\n",
              "    <tr>\n",
              "      <th>19</th>\n",
              "      <td>20</td>\n",
              "      <td>Euro Anxieties Wane as Bunds Top Treasuries, S...</td>\n",
              "      <td>http://www.businessweek.com/news/2014-03-10/ge...</td>\n",
              "      <td>Businessweek</td>\n",
              "      <td>b</td>\n",
              "      <td>dPhGU51DcrolUIMxbRm0InaHGA2XM</td>\n",
              "      <td>www.businessweek.com</td>\n",
              "      <td>1394470503148</td>\n",
              "    </tr>\n",
              "    <tr>\n",
              "      <th>20</th>\n",
              "      <td>21</td>\n",
              "      <td>Noyer Says Strong Euro Creates Unwarranted Eco...</td>\n",
              "      <td>http://www.businessweek.com/news/2014-03-10/no...</td>\n",
              "      <td>Businessweek</td>\n",
              "      <td>b</td>\n",
              "      <td>dPhGU51DcrolUIMxbRm0InaHGA2XM</td>\n",
              "      <td>www.businessweek.com</td>\n",
              "      <td>1394470503366</td>\n",
              "    </tr>\n",
              "    <tr>\n",
              "      <th>29</th>\n",
              "      <td>30</td>\n",
              "      <td>REFILE-Bad loan triggers key feature in ECB ba...</td>\n",
              "      <td>http://in.reuters.com/article/2014/03/10/euroz...</td>\n",
              "      <td>Reuters</td>\n",
              "      <td>b</td>\n",
              "      <td>dPhGU51DcrolUIMxbRm0InaHGA2XM</td>\n",
              "      <td>in.reuters.com</td>\n",
              "      <td>1394470505070</td>\n",
              "    </tr>\n",
              "    <tr>\n",
              "      <th>...</th>\n",
              "      <td>...</td>\n",
              "      <td>...</td>\n",
              "      <td>...</td>\n",
              "      <td>...</td>\n",
              "      <td>...</td>\n",
              "      <td>...</td>\n",
              "      <td>...</td>\n",
              "      <td>...</td>\n",
              "    </tr>\n",
              "    <tr>\n",
              "      <th>422300</th>\n",
              "      <td>422819</td>\n",
              "      <td>UN: Ebola Could Eventually Infect 20000 People</td>\n",
              "      <td>http://www.huffingtonpost.com/2014/08/28/ebola...</td>\n",
              "      <td>Huffington Post</td>\n",
              "      <td>m</td>\n",
              "      <td>dhhnSHVoyA7ENBM3boDX_D_-3PV6M</td>\n",
              "      <td>www.huffingtonpost.com</td>\n",
              "      <td>1409228423333</td>\n",
              "    </tr>\n",
              "    <tr>\n",
              "      <th>422301</th>\n",
              "      <td>422820</td>\n",
              "      <td>Ebola toll tops 1550, continues to accelerate ...</td>\n",
              "      <td>http://in.reuters.com/article/2014/08/28/healt...</td>\n",
              "      <td>Reuters</td>\n",
              "      <td>m</td>\n",
              "      <td>dhhnSHVoyA7ENBM3boDX_D_-3PV6M</td>\n",
              "      <td>in.reuters.com</td>\n",
              "      <td>1409228423827</td>\n",
              "    </tr>\n",
              "    <tr>\n",
              "      <th>422302</th>\n",
              "      <td>422821</td>\n",
              "      <td>UPDATE 1-Ebola toll tops 1550, outbreak accele...</td>\n",
              "      <td>http://in.reuters.com/article/2014/08/28/healt...</td>\n",
              "      <td>Reuters</td>\n",
              "      <td>m</td>\n",
              "      <td>dhhnSHVoyA7ENBM3boDX_D_-3PV6M</td>\n",
              "      <td>in.reuters.com</td>\n",
              "      <td>1409228424525</td>\n",
              "    </tr>\n",
              "    <tr>\n",
              "      <th>422309</th>\n",
              "      <td>422828</td>\n",
              "      <td>Ebola Cases May Surpass 20000, WHO Says in Upd...</td>\n",
              "      <td>http://www.businessweek.com/news/2014-08-28/eb...</td>\n",
              "      <td>Businessweek</td>\n",
              "      <td>m</td>\n",
              "      <td>dhhnSHVoyA7ENBM3boDX_D_-3PV6M</td>\n",
              "      <td>www.businessweek.com</td>\n",
              "      <td>1409228426943</td>\n",
              "    </tr>\n",
              "    <tr>\n",
              "      <th>422319</th>\n",
              "      <td>422838</td>\n",
              "      <td>Air France suspends flights to Ebola-hit Sierr...</td>\n",
              "      <td>http://www.dailymail.co.uk/travel/travel_news/...</td>\n",
              "      <td>Daily Mail</td>\n",
              "      <td>m</td>\n",
              "      <td>dhhnSHVoyA7ENBM3boDX_D_-3PV6M</td>\n",
              "      <td>www.dailymail.co.uk</td>\n",
              "      <td>1409228430383</td>\n",
              "    </tr>\n",
              "  </tbody>\n",
              "</table>\n",
              "<p>13340 rows × 8 columns</p>\n",
              "</div>\n",
              "    <div class=\"colab-df-buttons\">\n",
              "\n",
              "  <div class=\"colab-df-container\">\n",
              "    <button class=\"colab-df-convert\" onclick=\"convertToInteractive('df-ea3f031e-a538-4866-a967-3736a6ab994f')\"\n",
              "            title=\"Convert this dataframe to an interactive table.\"\n",
              "            style=\"display:none;\">\n",
              "\n",
              "  <svg xmlns=\"http://www.w3.org/2000/svg\" height=\"24px\" viewBox=\"0 -960 960 960\">\n",
              "    <path d=\"M120-120v-720h720v720H120Zm60-500h600v-160H180v160Zm220 220h160v-160H400v160Zm0 220h160v-160H400v160ZM180-400h160v-160H180v160Zm440 0h160v-160H620v160ZM180-180h160v-160H180v160Zm440 0h160v-160H620v160Z\"/>\n",
              "  </svg>\n",
              "    </button>\n",
              "\n",
              "  <style>\n",
              "    .colab-df-container {\n",
              "      display:flex;\n",
              "      gap: 12px;\n",
              "    }\n",
              "\n",
              "    .colab-df-convert {\n",
              "      background-color: #E8F0FE;\n",
              "      border: none;\n",
              "      border-radius: 50%;\n",
              "      cursor: pointer;\n",
              "      display: none;\n",
              "      fill: #1967D2;\n",
              "      height: 32px;\n",
              "      padding: 0 0 0 0;\n",
              "      width: 32px;\n",
              "    }\n",
              "\n",
              "    .colab-df-convert:hover {\n",
              "      background-color: #E2EBFA;\n",
              "      box-shadow: 0px 1px 2px rgba(60, 64, 67, 0.3), 0px 1px 3px 1px rgba(60, 64, 67, 0.15);\n",
              "      fill: #174EA6;\n",
              "    }\n",
              "\n",
              "    .colab-df-buttons div {\n",
              "      margin-bottom: 4px;\n",
              "    }\n",
              "\n",
              "    [theme=dark] .colab-df-convert {\n",
              "      background-color: #3B4455;\n",
              "      fill: #D2E3FC;\n",
              "    }\n",
              "\n",
              "    [theme=dark] .colab-df-convert:hover {\n",
              "      background-color: #434B5C;\n",
              "      box-shadow: 0px 1px 3px 1px rgba(0, 0, 0, 0.15);\n",
              "      filter: drop-shadow(0px 1px 2px rgba(0, 0, 0, 0.3));\n",
              "      fill: #FFFFFF;\n",
              "    }\n",
              "  </style>\n",
              "\n",
              "    <script>\n",
              "      const buttonEl =\n",
              "        document.querySelector('#df-ea3f031e-a538-4866-a967-3736a6ab994f button.colab-df-convert');\n",
              "      buttonEl.style.display =\n",
              "        google.colab.kernel.accessAllowed ? 'block' : 'none';\n",
              "\n",
              "      async function convertToInteractive(key) {\n",
              "        const element = document.querySelector('#df-ea3f031e-a538-4866-a967-3736a6ab994f');\n",
              "        const dataTable =\n",
              "          await google.colab.kernel.invokeFunction('convertToInteractive',\n",
              "                                                    [key], {});\n",
              "        if (!dataTable) return;\n",
              "\n",
              "        const docLinkHtml = 'Like what you see? Visit the ' +\n",
              "          '<a target=\"_blank\" href=https://colab.research.google.com/notebooks/data_table.ipynb>data table notebook</a>'\n",
              "          + ' to learn more about interactive tables.';\n",
              "        element.innerHTML = '';\n",
              "        dataTable['output_type'] = 'display_data';\n",
              "        await google.colab.output.renderOutput(dataTable, element);\n",
              "        const docLink = document.createElement('div');\n",
              "        docLink.innerHTML = docLinkHtml;\n",
              "        element.appendChild(docLink);\n",
              "      }\n",
              "    </script>\n",
              "  </div>\n",
              "\n",
              "\n",
              "<div id=\"df-6f84c839-8cc5-4a28-8f6e-d1844f65d34e\">\n",
              "  <button class=\"colab-df-quickchart\" onclick=\"quickchart('df-6f84c839-8cc5-4a28-8f6e-d1844f65d34e')\"\n",
              "            title=\"Suggest charts\"\n",
              "            style=\"display:none;\">\n",
              "\n",
              "<svg xmlns=\"http://www.w3.org/2000/svg\" height=\"24px\"viewBox=\"0 0 24 24\"\n",
              "     width=\"24px\">\n",
              "    <g>\n",
              "        <path d=\"M19 3H5c-1.1 0-2 .9-2 2v14c0 1.1.9 2 2 2h14c1.1 0 2-.9 2-2V5c0-1.1-.9-2-2-2zM9 17H7v-7h2v7zm4 0h-2V7h2v10zm4 0h-2v-4h2v4z\"/>\n",
              "    </g>\n",
              "</svg>\n",
              "  </button>\n",
              "\n",
              "<style>\n",
              "  .colab-df-quickchart {\n",
              "      --bg-color: #E8F0FE;\n",
              "      --fill-color: #1967D2;\n",
              "      --hover-bg-color: #E2EBFA;\n",
              "      --hover-fill-color: #174EA6;\n",
              "      --disabled-fill-color: #AAA;\n",
              "      --disabled-bg-color: #DDD;\n",
              "  }\n",
              "\n",
              "  [theme=dark] .colab-df-quickchart {\n",
              "      --bg-color: #3B4455;\n",
              "      --fill-color: #D2E3FC;\n",
              "      --hover-bg-color: #434B5C;\n",
              "      --hover-fill-color: #FFFFFF;\n",
              "      --disabled-bg-color: #3B4455;\n",
              "      --disabled-fill-color: #666;\n",
              "  }\n",
              "\n",
              "  .colab-df-quickchart {\n",
              "    background-color: var(--bg-color);\n",
              "    border: none;\n",
              "    border-radius: 50%;\n",
              "    cursor: pointer;\n",
              "    display: none;\n",
              "    fill: var(--fill-color);\n",
              "    height: 32px;\n",
              "    padding: 0;\n",
              "    width: 32px;\n",
              "  }\n",
              "\n",
              "  .colab-df-quickchart:hover {\n",
              "    background-color: var(--hover-bg-color);\n",
              "    box-shadow: 0 1px 2px rgba(60, 64, 67, 0.3), 0 1px 3px 1px rgba(60, 64, 67, 0.15);\n",
              "    fill: var(--button-hover-fill-color);\n",
              "  }\n",
              "\n",
              "  .colab-df-quickchart-complete:disabled,\n",
              "  .colab-df-quickchart-complete:disabled:hover {\n",
              "    background-color: var(--disabled-bg-color);\n",
              "    fill: var(--disabled-fill-color);\n",
              "    box-shadow: none;\n",
              "  }\n",
              "\n",
              "  .colab-df-spinner {\n",
              "    border: 2px solid var(--fill-color);\n",
              "    border-color: transparent;\n",
              "    border-bottom-color: var(--fill-color);\n",
              "    animation:\n",
              "      spin 1s steps(1) infinite;\n",
              "  }\n",
              "\n",
              "  @keyframes spin {\n",
              "    0% {\n",
              "      border-color: transparent;\n",
              "      border-bottom-color: var(--fill-color);\n",
              "      border-left-color: var(--fill-color);\n",
              "    }\n",
              "    20% {\n",
              "      border-color: transparent;\n",
              "      border-left-color: var(--fill-color);\n",
              "      border-top-color: var(--fill-color);\n",
              "    }\n",
              "    30% {\n",
              "      border-color: transparent;\n",
              "      border-left-color: var(--fill-color);\n",
              "      border-top-color: var(--fill-color);\n",
              "      border-right-color: var(--fill-color);\n",
              "    }\n",
              "    40% {\n",
              "      border-color: transparent;\n",
              "      border-right-color: var(--fill-color);\n",
              "      border-top-color: var(--fill-color);\n",
              "    }\n",
              "    60% {\n",
              "      border-color: transparent;\n",
              "      border-right-color: var(--fill-color);\n",
              "    }\n",
              "    80% {\n",
              "      border-color: transparent;\n",
              "      border-right-color: var(--fill-color);\n",
              "      border-bottom-color: var(--fill-color);\n",
              "    }\n",
              "    90% {\n",
              "      border-color: transparent;\n",
              "      border-bottom-color: var(--fill-color);\n",
              "    }\n",
              "  }\n",
              "</style>\n",
              "\n",
              "  <script>\n",
              "    async function quickchart(key) {\n",
              "      const quickchartButtonEl =\n",
              "        document.querySelector('#' + key + ' button');\n",
              "      quickchartButtonEl.disabled = true;  // To prevent multiple clicks.\n",
              "      quickchartButtonEl.classList.add('colab-df-spinner');\n",
              "      try {\n",
              "        const charts = await google.colab.kernel.invokeFunction(\n",
              "            'suggestCharts', [key], {});\n",
              "      } catch (error) {\n",
              "        console.error('Error during call to suggestCharts:', error);\n",
              "      }\n",
              "      quickchartButtonEl.classList.remove('colab-df-spinner');\n",
              "      quickchartButtonEl.classList.add('colab-df-quickchart-complete');\n",
              "    }\n",
              "    (() => {\n",
              "      let quickchartButtonEl =\n",
              "        document.querySelector('#df-6f84c839-8cc5-4a28-8f6e-d1844f65d34e button');\n",
              "      quickchartButtonEl.style.display =\n",
              "        google.colab.kernel.accessAllowed ? 'block' : 'none';\n",
              "    })();\n",
              "  </script>\n",
              "</div>\n",
              "\n",
              "  <div id=\"id_634ec1ef-60ec-4615-8dfb-2c4a77123dbd\">\n",
              "    <style>\n",
              "      .colab-df-generate {\n",
              "        background-color: #E8F0FE;\n",
              "        border: none;\n",
              "        border-radius: 50%;\n",
              "        cursor: pointer;\n",
              "        display: none;\n",
              "        fill: #1967D2;\n",
              "        height: 32px;\n",
              "        padding: 0 0 0 0;\n",
              "        width: 32px;\n",
              "      }\n",
              "\n",
              "      .colab-df-generate:hover {\n",
              "        background-color: #E2EBFA;\n",
              "        box-shadow: 0px 1px 2px rgba(60, 64, 67, 0.3), 0px 1px 3px 1px rgba(60, 64, 67, 0.15);\n",
              "        fill: #174EA6;\n",
              "      }\n",
              "\n",
              "      [theme=dark] .colab-df-generate {\n",
              "        background-color: #3B4455;\n",
              "        fill: #D2E3FC;\n",
              "      }\n",
              "\n",
              "      [theme=dark] .colab-df-generate:hover {\n",
              "        background-color: #434B5C;\n",
              "        box-shadow: 0px 1px 3px 1px rgba(0, 0, 0, 0.15);\n",
              "        filter: drop-shadow(0px 1px 2px rgba(0, 0, 0, 0.3));\n",
              "        fill: #FFFFFF;\n",
              "      }\n",
              "    </style>\n",
              "    <button class=\"colab-df-generate\" onclick=\"generateWithVariable('data')\"\n",
              "            title=\"Generate code using this dataframe.\"\n",
              "            style=\"display:none;\">\n",
              "\n",
              "  <svg xmlns=\"http://www.w3.org/2000/svg\" height=\"24px\"viewBox=\"0 0 24 24\"\n",
              "       width=\"24px\">\n",
              "    <path d=\"M7,19H8.4L18.45,9,17,7.55,7,17.6ZM5,21V16.75L18.45,3.32a2,2,0,0,1,2.83,0l1.4,1.43a1.91,1.91,0,0,1,.58,1.4,1.91,1.91,0,0,1-.58,1.4L9.25,21ZM18.45,9,17,7.55Zm-12,3A5.31,5.31,0,0,0,4.9,8.1,5.31,5.31,0,0,0,1,6.5,5.31,5.31,0,0,0,4.9,4.9,5.31,5.31,0,0,0,6.5,1,5.31,5.31,0,0,0,8.1,4.9,5.31,5.31,0,0,0,12,6.5,5.46,5.46,0,0,0,6.5,12Z\"/>\n",
              "  </svg>\n",
              "    </button>\n",
              "    <script>\n",
              "      (() => {\n",
              "      const buttonEl =\n",
              "        document.querySelector('#id_634ec1ef-60ec-4615-8dfb-2c4a77123dbd button.colab-df-generate');\n",
              "      buttonEl.style.display =\n",
              "        google.colab.kernel.accessAllowed ? 'block' : 'none';\n",
              "\n",
              "      buttonEl.onclick = () => {\n",
              "        google.colab.notebook.generateWithVariable('data');\n",
              "      }\n",
              "      })();\n",
              "    </script>\n",
              "  </div>\n",
              "\n",
              "    </div>\n",
              "  </div>\n"
            ]
          },
          "metadata": {},
          "execution_count": 9
        }
      ],
      "source": [
        "data"
      ]
    },
    {
      "cell_type": "code",
      "execution_count": 10,
      "metadata": {
        "id": "Ex0aC8ob9tvc"
      },
      "outputs": [],
      "source": [
        "def preprocessing(text):\n",
        "  text = \"\".join([i for i in text if i not in string.punctuation])\n",
        "  text = text.lower()\n",
        "  text = re.sub(\"[0-9]+\", \"\", text)\n",
        "  return text"
      ]
    },
    {
      "cell_type": "code",
      "execution_count": 11,
      "metadata": {
        "colab": {
          "base_uri": "https://localhost:8080/"
        },
        "id": "dA6Bqb3WFVhg",
        "outputId": "532182ff-7b90-461f-be39-ece3f341c85f"
      },
      "outputs": [
        {
          "output_type": "stream",
          "name": "stderr",
          "text": [
            "<ipython-input-11-26ac3ffb61ab>:1: SettingWithCopyWarning: \n",
            "A value is trying to be set on a copy of a slice from a DataFrame.\n",
            "Try using .loc[row_indexer,col_indexer] = value instead\n",
            "\n",
            "See the caveats in the documentation: https://pandas.pydata.org/pandas-docs/stable/user_guide/indexing.html#returning-a-view-versus-a-copy\n",
            "  data['pTITLE'] = data['TITLE'].apply(lambda x: preprocessing(x))\n"
          ]
        }
      ],
      "source": [
        "data['pTITLE'] = data['TITLE'].apply(lambda x: preprocessing(x))"
      ]
    },
    {
      "cell_type": "code",
      "execution_count": 12,
      "metadata": {
        "id": "6sYzh_hSFbdz"
      },
      "outputs": [],
      "source": [
        "train_val, test = train_test_split(data, test_size=0.2, shuffle=True)\n",
        "train, val = train_test_split(train_val, test_size=0.1, shuffle=True)\n",
        "train = train.reset_index(drop=True)\n",
        "val = val.reset_index(drop=True)\n",
        "test = test.reset_index(drop=True)"
      ]
    },
    {
      "cell_type": "code",
      "execution_count": 13,
      "metadata": {
        "id": "6sdquBMJFhAD"
      },
      "outputs": [],
      "source": [
        "freq_words = defaultdict(int)\n",
        "for title in train['pTITLE']:\n",
        "  for word in title.split():\n",
        "    freq_words[word] += 1"
      ]
    },
    {
      "cell_type": "code",
      "execution_count": 14,
      "metadata": {
        "id": "Fpg9MqaAFjVp"
      },
      "outputs": [],
      "source": [
        "freq_words = sorted(freq_words.items(), key=lambda x:x[1], reverse=True)"
      ]
    },
    {
      "cell_type": "code",
      "execution_count": 15,
      "metadata": {
        "id": "IOQLecAZFnPN"
      },
      "outputs": [],
      "source": [
        "db_words = []\n",
        "for id, (word, count) in enumerate(freq_words):\n",
        "  if count < 2:\n",
        "    db_words.append([0,word])\n",
        "  else:\n",
        "    db_words.append([id+1,word])"
      ]
    },
    {
      "cell_type": "markdown",
      "metadata": {
        "id": "S7agcrsfF8yV"
      },
      "source": [
        "# 81. RNNによる予測"
      ]
    },
    {
      "cell_type": "code",
      "execution_count": 52,
      "metadata": {
        "id": "qJ4VPt81jsEW"
      },
      "outputs": [],
      "source": [
        "class RNN(keras.Model):\n",
        "  def __init__(self, dw, dh, n_words, n_class, n_unit):\n",
        "    super().__init__()\n",
        "    self.rnn = layers.SimpleRNN(n_unit, activation=\"tanh\", input_shape=(dw, dh), return_sequences=True)\n",
        "    # self.rnn = layers.RNN(cell=n_cell, activation=\"tanh\", input_shape=(dw, dh), return_sequences=True)\n",
        "    self.emb = layers.Embedding(n_words, dh)\n",
        "    self.linear = layers.Dense(n_class, activation='relu')\n",
        "\n",
        "  def __call__(self, x, training=True):\n",
        "    x = self.emb(x)\n",
        "    x = self.rnn(x)\n",
        "    x = x[:, -1, :]\n",
        "    #x = nn.softmax(x)\n",
        "    x = self.linear(x)\n",
        "    return x"
      ]
    },
    {
      "cell_type": "markdown",
      "metadata": {
        "id": "P-1lOl7Xl9r6"
      },
      "source": [
        "# 82. 確率的勾配降下法による学習  \n",
        "確率的勾配降下法（SGD: Stochastic Gradient Descent）を用いて，問題81で構築したモデルを学習せよ．訓練データ上の損失と正解率，評価データ上の損失と正解率を表示しながらモデルを学習し，適当な基準（例えば10エポックなど）で終了させよ．"
      ]
    },
    {
      "cell_type": "code",
      "execution_count": 53,
      "metadata": {
        "id": "XzEJmpooqNU1"
      },
      "outputs": [],
      "source": [
        "labels = list(set(data['CATEGORY']))\n",
        "dsc_labels =  {k: i for i, k in enumerate(labels)}"
      ]
    },
    {
      "cell_type": "code",
      "execution_count": 54,
      "metadata": {
        "id": "FgrjsKqEqG0k"
      },
      "outputs": [],
      "source": [
        "dw = 300\n",
        "dh = 50\n",
        "n_words = len(db_words) + 1\n",
        "n_class = len(labels)"
      ]
    },
    {
      "cell_type": "code",
      "execution_count": 55,
      "metadata": {
        "id": "Rg9NKrOaqaAb"
      },
      "outputs": [],
      "source": [
        "def one_hot_encoding(series):\n",
        "    le = LabelEncoder()\n",
        "    lvl = le.fit_transform(series)\n",
        "\n",
        "    ohe = OneHotEncoder()\n",
        "    enced = ohe.fit_transform(lvl.reshape(-1,1)).astype(int)\n",
        "    names = [(series.name+\"_\")+str(s) for s in le.classes_]\n",
        "    r_df = pd.DataFrame(index=series.index, columns=names, data=enced.toarray(), dtype=np.int64)\n",
        "    return r_df"
      ]
    },
    {
      "cell_type": "code",
      "execution_count": 56,
      "metadata": {
        "id": "0TsxkENNrAeX"
      },
      "outputs": [],
      "source": [
        "def data2vec(data, X_name, y_name, n_class):\n",
        "  vectorizer = TfidfVectorizer()\n",
        "  X = vectorizer.fit_transform(data[X_name]).toarray()\n",
        "  #y = one_hot_encoding(data[y_name]).values\n",
        "  y = data[y_name].map(lambda x: dsc_labels[x])\n",
        "  y = tf.one_hot(y, n_class)\n",
        "  #Xy = pd.concat([X,y], axis=1)\n",
        "  #Xy = pd.DataFrame(Xy, columns=vectorizer.get_feature_names_out())\n",
        "  return X, y"
      ]
    },
    {
      "cell_type": "code",
      "execution_count": 57,
      "metadata": {
        "id": "e4lpV3kNrFzC"
      },
      "outputs": [],
      "source": [
        "X_train, y_train = data2vec(train,'pTITLE','CATEGORY',n_class)\n",
        "X_val, y_val = data2vec(val,'pTITLE','CATEGORY',n_class)\n",
        "X_test, y_test = data2vec(test,'pTITLE','CATEGORY',n_class)"
      ]
    },
    {
      "cell_type": "code",
      "execution_count": 58,
      "metadata": {
        "id": "y_90L_5J4xgD"
      },
      "outputs": [],
      "source": [
        "#model = keras.Sequential([\n",
        "#    layers.Embedding(n_words, dh),\n",
        "#    layers.SimpleRNN(n_unit, activation=\"tanh\", input_shape=(dw, dh), return_sequences=True),\n",
        "#    layers.Dense(n_label, activation=\"softmax\")\n",
        "#    nn.softmax(),\n",
        "#])"
      ]
    },
    {
      "cell_type": "code",
      "source": [
        "n_unit = 1"
      ],
      "metadata": {
        "id": "AWn2ivcAA6YR"
      },
      "execution_count": 59,
      "outputs": []
    },
    {
      "cell_type": "code",
      "execution_count": 60,
      "metadata": {
        "id": "anpJgrfNqEWP"
      },
      "outputs": [],
      "source": [
        "model = RNN(dw, dh, n_words, n_class, n_unit)"
      ]
    },
    {
      "cell_type": "code",
      "execution_count": 61,
      "metadata": {
        "id": "XK7hciZz7eVg"
      },
      "outputs": [],
      "source": [
        "#model.summary()"
      ]
    },
    {
      "cell_type": "code",
      "execution_count": 62,
      "metadata": {
        "id": "O_HstAiKl5z5"
      },
      "outputs": [],
      "source": [
        "optim = optimizers.SGD(learning_rate=0.0001)"
      ]
    },
    {
      "cell_type": "code",
      "execution_count": 63,
      "metadata": {
        "id": "wxDyxOiL7Cza"
      },
      "outputs": [],
      "source": [
        "loss = losses.CategoricalCrossentropy()"
      ]
    },
    {
      "cell_type": "code",
      "execution_count": 64,
      "metadata": {
        "id": "N6mnKFiu1wR-"
      },
      "outputs": [],
      "source": [
        "model.compile(\n",
        "    #loss=\"sparse_categorical_crossentropy\",\n",
        "    loss=loss,\n",
        "    optimizer=optim,\n",
        "    metrics=[\"accuracy\"],\n",
        "    run_eagerly=True,\n",
        ")"
      ]
    },
    {
      "cell_type": "code",
      "execution_count": 65,
      "metadata": {
        "id": "AwKY5LCUdLNc"
      },
      "outputs": [],
      "source": [
        "batch_size = 64\n",
        "epochs = 1"
      ]
    },
    {
      "cell_type": "code",
      "execution_count": 66,
      "metadata": {
        "colab": {
          "base_uri": "https://localhost:8080/"
        },
        "id": "M5GsOmsD4cCv",
        "outputId": "988de7c5-f8bf-4f29-9195-9f1521ab5104"
      },
      "outputs": [
        {
          "output_type": "stream",
          "name": "stdout",
          "text": [
            "151/151 [==============================] - 4443s 29s/step - loss: 5.3420 - accuracy: 0.0983 - val_loss: 3.3270 - val_accuracy: 0.0655\n"
          ]
        },
        {
          "output_type": "execute_result",
          "data": {
            "text/plain": [
              "<keras.src.callbacks.History at 0x782d453598a0>"
            ]
          },
          "metadata": {},
          "execution_count": 66
        }
      ],
      "source": [
        "model.fit(X_train, y_train, validation_data=(X_val, y_val), batch_size=batch_size, epochs=epochs)"
      ]
    },
    {
      "cell_type": "code",
      "execution_count": 71,
      "metadata": {
        "colab": {
          "base_uri": "https://localhost:8080/"
        },
        "id": "7Rb43Ubu-Vu9",
        "outputId": "b8167b69-6591-40ae-ea16-3dfc6b281663"
      },
      "outputs": [
        {
          "output_type": "stream",
          "name": "stdout",
          "text": [
            "84/84 [==============================] - 845s 10s/step\n"
          ]
        }
      ],
      "source": [
        "y_pred = model.predict(X_test)"
      ]
    },
    {
      "cell_type": "code",
      "source": [
        "y_pred = np.argmax(y_pred, axis=1)"
      ],
      "metadata": {
        "id": "tSuPKHnmKpBV"
      },
      "execution_count": null,
      "outputs": []
    },
    {
      "cell_type": "code",
      "source": [
        "y_pred"
      ],
      "metadata": {
        "colab": {
          "base_uri": "https://localhost:8080/"
        },
        "id": "ILpyVaicGBwV",
        "outputId": "d95e26ca-141c-4e9e-efdb-782ab6608445"
      },
      "execution_count": 73,
      "outputs": [
        {
          "output_type": "execute_result",
          "data": {
            "text/plain": [
              "array([[0.        , 0.10136534, 0.4431287 , 0.5047814 ],\n",
              "       [0.        , 0.10136534, 0.4431287 , 0.5047814 ],\n",
              "       [0.        , 0.10136534, 0.4431287 , 0.5047814 ],\n",
              "       ...,\n",
              "       [0.        , 0.10136534, 0.4431287 , 0.5047814 ],\n",
              "       [0.        , 0.10136534, 0.4431287 , 0.5047814 ],\n",
              "       [0.        , 0.10136534, 0.4431287 , 0.5047814 ]], dtype=float32)"
            ]
          },
          "metadata": {},
          "execution_count": 73
        }
      ]
    },
    {
      "cell_type": "code",
      "source": [
        "y_test"
      ],
      "metadata": {
        "colab": {
          "base_uri": "https://localhost:8080/"
        },
        "id": "CFXwEwWRf11u",
        "outputId": "32cee1e7-a579-4424-ebda-3954f770b0ef"
      },
      "execution_count": 74,
      "outputs": [
        {
          "output_type": "execute_result",
          "data": {
            "text/plain": [
              "<tf.Tensor: shape=(2668, 4), dtype=float32, numpy=\n",
              "array([[0., 1., 0., 0.],\n",
              "       [0., 1., 0., 0.],\n",
              "       [0., 0., 1., 0.],\n",
              "       ...,\n",
              "       [0., 0., 1., 0.],\n",
              "       [0., 1., 0., 0.],\n",
              "       [0., 1., 0., 0.]], dtype=float32)>"
            ]
          },
          "metadata": {},
          "execution_count": 74
        }
      ]
    },
    {
      "cell_type": "code",
      "execution_count": 72,
      "metadata": {
        "colab": {
          "base_uri": "https://localhost:8080/",
          "height": 146
        },
        "id": "CjQgW-cnDwLZ",
        "outputId": "f5df46fa-c7b4-4ad7-89f6-5b6dd12afb21"
      },
      "outputs": [
        {
          "output_type": "error",
          "ename": "SyntaxError",
          "evalue": "closing parenthesis ')' does not match opening parenthesis '[' (<ipython-input-72-e246691e1791>, line 1)",
          "traceback": [
            "\u001b[0;36m  File \u001b[0;32m\"<ipython-input-72-e246691e1791>\"\u001b[0;36m, line \u001b[0;32m1\u001b[0m\n\u001b[0;31m    \"Accuracy: {}\".format(accuracy_score([y_test, y_pred))\u001b[0m\n\u001b[0m                                                        ^\u001b[0m\n\u001b[0;31mSyntaxError\u001b[0m\u001b[0;31m:\u001b[0m closing parenthesis ')' does not match opening parenthesis '['\n"
          ]
        }
      ],
      "source": [
        "\"Accuracy: {}\".format(accuracy_score(y_test, y_pred))"
      ]
    }
  ],
  "metadata": {
    "accelerator": "GPU",
    "colab": {
      "provenance": [],
      "authorship_tag": "ABX9TyPGGaNSyKHvj9APNmK+r0lv",
      "include_colab_link": true
    },
    "kernelspec": {
      "display_name": "Python 3",
      "name": "python3"
    },
    "language_info": {
      "name": "python"
    }
  },
  "nbformat": 4,
  "nbformat_minor": 0
}