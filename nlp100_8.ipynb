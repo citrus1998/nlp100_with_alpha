{
  "nbformat": 4,
  "nbformat_minor": 0,
  "metadata": {
    "colab": {
      "provenance": [],
      "authorship_tag": "ABX9TyPPTF5RJz2nvk9wajvOB/+Y",
      "include_colab_link": true
    },
    "kernelspec": {
      "name": "python3",
      "display_name": "Python 3"
    },
    "language_info": {
      "name": "python"
    }
  },
  "cells": [
    {
      "cell_type": "markdown",
      "metadata": {
        "id": "view-in-github",
        "colab_type": "text"
      },
      "source": [
        "<a href=\"https://colab.research.google.com/github/s528661/nlp100/blob/main/nlp100_8.ipynb\" target=\"_parent\"><img src=\"https://colab.research.google.com/assets/colab-badge.svg\" alt=\"Open In Colab\"/></a>"
      ]
    },
    {
      "cell_type": "markdown",
      "source": [
        "# 第8章: ニューラルネット\n",
        "第6章で取り組んだニュース記事のカテゴリ分類を題材として，ニューラルネットワークでカテゴリ分類モデルを実装する．なお，この章ではPyTorch, TensorFlow, Chainerなどの機械学習プラットフォームを活用せよ．"
      ],
      "metadata": {
        "id": "JzO0Vi0xc0mj"
      }
    },
    {
      "cell_type": "code",
      "execution_count": 1,
      "metadata": {
        "id": "0f-76NgccihS",
        "colab": {
          "base_uri": "https://localhost:8080/"
        },
        "outputId": "f128f190-f68b-4117-f8be-165cdd9c284d"
      },
      "outputs": [
        {
          "output_type": "stream",
          "name": "stdout",
          "text": [
            "Collecting mecab-python3\n",
            "  Downloading mecab_python3-1.0.8-cp310-cp310-manylinux_2_17_x86_64.manylinux2014_x86_64.whl (581 kB)\n",
            "\u001b[2K     \u001b[90m━━━━━━━━━━━━━━━━━━━━━━━━━━━━━━━━━━━━━━━━\u001b[0m \u001b[32m581.7/581.7 kB\u001b[0m \u001b[31m4.5 MB/s\u001b[0m eta \u001b[36m0:00:00\u001b[0m\n",
            "\u001b[?25hInstalling collected packages: mecab-python3\n",
            "Successfully installed mecab-python3-1.0.8\n"
          ]
        }
      ],
      "source": [
        "!pip install mecab-python3"
      ]
    },
    {
      "cell_type": "code",
      "source": [
        "import gc\n",
        "import re,sys,os\n",
        "\n",
        "import pickle\n",
        "import time\n",
        "import copy\n",
        "\n",
        "import math\n",
        "import random\n",
        "import string\n",
        "\n",
        "from collections import defaultdict, Counter\n",
        "\n",
        "import numpy as np\n",
        "import pandas as pd\n",
        "import scipy as scp\n",
        "\n",
        "import matplotlib\n",
        "import matplotlib.pyplot as plt\n",
        "import seaborn as sns\n",
        "\n",
        "import torch\n",
        "import torch.nn as nn\n",
        "import torch.optim as optim\n",
        "import torch.nn.functional as F\n",
        "\n",
        "from torch.utils.data import Dataset, DataLoader, TensorDataset\n",
        "\n",
        "from sklearn import feature_extraction, preprocessing\n",
        "\n",
        "from sklearn import svm\n",
        "from sklearn.svm import SVR\n",
        "from sklearn.linear_model import LinearRegression, Ridge, Lasso\n",
        "from sklearn.ensemble import RandomForestRegressor, GradientBoostingRegressor, RandomForestClassifier\n",
        "from sklearn.neighbors import KNeighborsRegressor\n",
        "\n",
        "from sklearn.model_selection import GridSearchCV\n",
        "from sklearn.model_selection import RandomizedSearchCV\n",
        "from sklearn.model_selection import train_test_split\n",
        "from sklearn.model_selection import KFold, StratifiedKFold, GroupKFold\n",
        "from sklearn.model_selection import cross_val_score\n",
        "\n",
        "from sklearn.metrics import mean_squared_error, mean_absolute_error, r2_score, mean_absolute_percentage_error, f1_score\n",
        "from sklearn.metrics import accuracy_score,  precision_score, recall_score, confusion_matrix, roc_auc_score\n",
        "\n",
        "# import dask.array as da\n",
        "\n",
        "import lightgbm as lgb\n",
        "\n",
        "# Neural Language Processing\n",
        "from sklearn.feature_extraction.text import TfidfVectorizer, CountVectorizer\n",
        "from sklearn.feature_selection import SelectKBest\n",
        "\n",
        "from sklearn.linear_model import RidgeClassifier\n",
        "import MeCab\n",
        "\n",
        "import nltk\n",
        "from nltk.corpus import stopwords\n",
        "from nltk.stem.porter import PorterStemmer"
      ],
      "metadata": {
        "id": "NO2JwK68CMG7"
      },
      "execution_count": 2,
      "outputs": []
    },
    {
      "cell_type": "markdown",
      "source": [
        "# 70. 単語ベクトルの和による特徴量"
      ],
      "metadata": {
        "id": "SG39hdY2c7bI"
      }
    },
    {
      "cell_type": "code",
      "source": [
        "!wget https://archive.ics.uci.edu/ml/machine-learning-databases/00359/NewsAggregatorDataset.zip --no-check-certificate\n",
        "!unzip ./NewsAggregatorDataset.zip"
      ],
      "metadata": {
        "id": "NJNjv1Ppc6us",
        "colab": {
          "base_uri": "https://localhost:8080/"
        },
        "outputId": "f8440361-aaba-4bef-9692-5e904cbfdc50"
      },
      "execution_count": 3,
      "outputs": [
        {
          "output_type": "stream",
          "name": "stdout",
          "text": [
            "--2023-11-16 21:27:11--  https://archive.ics.uci.edu/ml/machine-learning-databases/00359/NewsAggregatorDataset.zip\n",
            "Resolving archive.ics.uci.edu (archive.ics.uci.edu)... 128.195.10.252\n",
            "Connecting to archive.ics.uci.edu (archive.ics.uci.edu)|128.195.10.252|:443... connected.\n",
            "HTTP request sent, awaiting response... 200 OK\n",
            "Length: unspecified\n",
            "Saving to: ‘NewsAggregatorDataset.zip’\n",
            "\n",
            "NewsAggregatorDatas     [     <=>            ]  27.87M  28.2MB/s    in 1.0s    \n",
            "\n",
            "2023-11-16 21:27:12 (28.2 MB/s) - ‘NewsAggregatorDataset.zip’ saved [29224203]\n",
            "\n",
            "Archive:  ./NewsAggregatorDataset.zip\n",
            "  inflating: 2pageSessions.csv       \n",
            "   creating: __MACOSX/\n",
            "  inflating: __MACOSX/._2pageSessions.csv  \n",
            "  inflating: newsCorpora.csv         \n",
            "  inflating: __MACOSX/._newsCorpora.csv  \n",
            "  inflating: readme.txt              \n",
            "  inflating: __MACOSX/._readme.txt   \n"
          ]
        }
      ]
    },
    {
      "cell_type": "code",
      "source": [
        "data = pd.read_csv('newsCorpora.csv',delimiter='\\t',header=None,\n",
        "                 names=[\"ID\", \"TITLE\", \"URL\", \"PUBLISHER\", \"CATEGORY\", \"STORY\", \"HOSTNAME\", \"TIMESTAMP\"])"
      ],
      "metadata": {
        "id": "ElsSK7-T-x8_"
      },
      "execution_count": 4,
      "outputs": []
    },
    {
      "cell_type": "code",
      "source": [
        "data"
      ],
      "metadata": {
        "colab": {
          "base_uri": "https://localhost:8080/",
          "height": 1000
        },
        "id": "ABZlxXMdBCOo",
        "outputId": "9b608469-3e27-457e-b5a6-48d322673554"
      },
      "execution_count": 5,
      "outputs": [
        {
          "output_type": "execute_result",
          "data": {
            "text/plain": [
              "            ID                                              TITLE  \\\n",
              "0            1  Fed official says weak data caused by weather,...   \n",
              "1            2  Fed's Charles Plosser sees high bar for change...   \n",
              "2            3  US open: Stocks fall after Fed official hints ...   \n",
              "3            4  Fed risks falling 'behind the curve', Charles ...   \n",
              "4            5  Fed's Plosser: Nasty Weather Has Curbed Job Gr...   \n",
              "...        ...                                                ...   \n",
              "422414  422933  Surgeons to remove 4-year-old's rib to rebuild...   \n",
              "422415  422934  Boy to have surgery on esophagus after battery...   \n",
              "422416  422935  Child who swallowed battery to have reconstruc...   \n",
              "422417  422936  Phoenix boy undergoes surgery to repair throat...   \n",
              "422418  422937  Phoenix boy undergoes surgery to repair throat...   \n",
              "\n",
              "                                                      URL          PUBLISHER  \\\n",
              "0       http://www.latimes.com/business/money/la-fi-mo...  Los Angeles Times   \n",
              "1       http://www.livemint.com/Politics/H2EvwJSK2VE6O...           Livemint   \n",
              "2       http://www.ifamagazine.com/news/us-open-stocks...       IFA Magazine   \n",
              "3       http://www.ifamagazine.com/news/fed-risks-fall...       IFA Magazine   \n",
              "4       http://www.moneynews.com/Economy/federal-reser...          Moneynews   \n",
              "...                                                   ...                ...   \n",
              "422414  http://www.cbs3springfield.com/story/26378648/...            WSHM-TV   \n",
              "422415  http://www.wlwt.com/news/boy-to-have-surgery-o...    WLWT Cincinnati   \n",
              "422416  http://www.newsnet5.com/news/local-news/child-...       NewsNet5.com   \n",
              "422417  http://www.wfsb.com/story/26368078/phoenix-boy...               WFSB   \n",
              "422418  http://www.cbs3springfield.com/story/26368078/...            WSHM-TV   \n",
              "\n",
              "       CATEGORY                          STORY                 HOSTNAME  \\\n",
              "0             b  ddUyU0VZz0BRneMioxUPQVP6sIxvM          www.latimes.com   \n",
              "1             b  ddUyU0VZz0BRneMioxUPQVP6sIxvM         www.livemint.com   \n",
              "2             b  ddUyU0VZz0BRneMioxUPQVP6sIxvM      www.ifamagazine.com   \n",
              "3             b  ddUyU0VZz0BRneMioxUPQVP6sIxvM      www.ifamagazine.com   \n",
              "4             b  ddUyU0VZz0BRneMioxUPQVP6sIxvM        www.moneynews.com   \n",
              "...         ...                            ...                      ...   \n",
              "422414        m  dpcLMoJD69UYMXMxaoEFnWql9YjQM  www.cbs3springfield.com   \n",
              "422415        m  dpcLMoJD69UYMXMxaoEFnWql9YjQM             www.wlwt.com   \n",
              "422416        m  dpcLMoJD69UYMXMxaoEFnWql9YjQM         www.newsnet5.com   \n",
              "422417        m  dpcLMoJD69UYMXMxaoEFnWql9YjQM             www.wfsb.com   \n",
              "422418        m  dpcLMoJD69UYMXMxaoEFnWql9YjQM  www.cbs3springfield.com   \n",
              "\n",
              "            TIMESTAMP  \n",
              "0       1394470370698  \n",
              "1       1394470371207  \n",
              "2       1394470371550  \n",
              "3       1394470371793  \n",
              "4       1394470372027  \n",
              "...               ...  \n",
              "422414  1409229190251  \n",
              "422415  1409229190508  \n",
              "422416  1409229190771  \n",
              "422417  1409229191071  \n",
              "422418  1409229191565  \n",
              "\n",
              "[422419 rows x 8 columns]"
            ],
            "text/html": [
              "\n",
              "  <div id=\"df-be228a76-c7bd-440c-acec-1ddd0b3e14f2\" class=\"colab-df-container\">\n",
              "    <div>\n",
              "<style scoped>\n",
              "    .dataframe tbody tr th:only-of-type {\n",
              "        vertical-align: middle;\n",
              "    }\n",
              "\n",
              "    .dataframe tbody tr th {\n",
              "        vertical-align: top;\n",
              "    }\n",
              "\n",
              "    .dataframe thead th {\n",
              "        text-align: right;\n",
              "    }\n",
              "</style>\n",
              "<table border=\"1\" class=\"dataframe\">\n",
              "  <thead>\n",
              "    <tr style=\"text-align: right;\">\n",
              "      <th></th>\n",
              "      <th>ID</th>\n",
              "      <th>TITLE</th>\n",
              "      <th>URL</th>\n",
              "      <th>PUBLISHER</th>\n",
              "      <th>CATEGORY</th>\n",
              "      <th>STORY</th>\n",
              "      <th>HOSTNAME</th>\n",
              "      <th>TIMESTAMP</th>\n",
              "    </tr>\n",
              "  </thead>\n",
              "  <tbody>\n",
              "    <tr>\n",
              "      <th>0</th>\n",
              "      <td>1</td>\n",
              "      <td>Fed official says weak data caused by weather,...</td>\n",
              "      <td>http://www.latimes.com/business/money/la-fi-mo...</td>\n",
              "      <td>Los Angeles Times</td>\n",
              "      <td>b</td>\n",
              "      <td>ddUyU0VZz0BRneMioxUPQVP6sIxvM</td>\n",
              "      <td>www.latimes.com</td>\n",
              "      <td>1394470370698</td>\n",
              "    </tr>\n",
              "    <tr>\n",
              "      <th>1</th>\n",
              "      <td>2</td>\n",
              "      <td>Fed's Charles Plosser sees high bar for change...</td>\n",
              "      <td>http://www.livemint.com/Politics/H2EvwJSK2VE6O...</td>\n",
              "      <td>Livemint</td>\n",
              "      <td>b</td>\n",
              "      <td>ddUyU0VZz0BRneMioxUPQVP6sIxvM</td>\n",
              "      <td>www.livemint.com</td>\n",
              "      <td>1394470371207</td>\n",
              "    </tr>\n",
              "    <tr>\n",
              "      <th>2</th>\n",
              "      <td>3</td>\n",
              "      <td>US open: Stocks fall after Fed official hints ...</td>\n",
              "      <td>http://www.ifamagazine.com/news/us-open-stocks...</td>\n",
              "      <td>IFA Magazine</td>\n",
              "      <td>b</td>\n",
              "      <td>ddUyU0VZz0BRneMioxUPQVP6sIxvM</td>\n",
              "      <td>www.ifamagazine.com</td>\n",
              "      <td>1394470371550</td>\n",
              "    </tr>\n",
              "    <tr>\n",
              "      <th>3</th>\n",
              "      <td>4</td>\n",
              "      <td>Fed risks falling 'behind the curve', Charles ...</td>\n",
              "      <td>http://www.ifamagazine.com/news/fed-risks-fall...</td>\n",
              "      <td>IFA Magazine</td>\n",
              "      <td>b</td>\n",
              "      <td>ddUyU0VZz0BRneMioxUPQVP6sIxvM</td>\n",
              "      <td>www.ifamagazine.com</td>\n",
              "      <td>1394470371793</td>\n",
              "    </tr>\n",
              "    <tr>\n",
              "      <th>4</th>\n",
              "      <td>5</td>\n",
              "      <td>Fed's Plosser: Nasty Weather Has Curbed Job Gr...</td>\n",
              "      <td>http://www.moneynews.com/Economy/federal-reser...</td>\n",
              "      <td>Moneynews</td>\n",
              "      <td>b</td>\n",
              "      <td>ddUyU0VZz0BRneMioxUPQVP6sIxvM</td>\n",
              "      <td>www.moneynews.com</td>\n",
              "      <td>1394470372027</td>\n",
              "    </tr>\n",
              "    <tr>\n",
              "      <th>...</th>\n",
              "      <td>...</td>\n",
              "      <td>...</td>\n",
              "      <td>...</td>\n",
              "      <td>...</td>\n",
              "      <td>...</td>\n",
              "      <td>...</td>\n",
              "      <td>...</td>\n",
              "      <td>...</td>\n",
              "    </tr>\n",
              "    <tr>\n",
              "      <th>422414</th>\n",
              "      <td>422933</td>\n",
              "      <td>Surgeons to remove 4-year-old's rib to rebuild...</td>\n",
              "      <td>http://www.cbs3springfield.com/story/26378648/...</td>\n",
              "      <td>WSHM-TV</td>\n",
              "      <td>m</td>\n",
              "      <td>dpcLMoJD69UYMXMxaoEFnWql9YjQM</td>\n",
              "      <td>www.cbs3springfield.com</td>\n",
              "      <td>1409229190251</td>\n",
              "    </tr>\n",
              "    <tr>\n",
              "      <th>422415</th>\n",
              "      <td>422934</td>\n",
              "      <td>Boy to have surgery on esophagus after battery...</td>\n",
              "      <td>http://www.wlwt.com/news/boy-to-have-surgery-o...</td>\n",
              "      <td>WLWT Cincinnati</td>\n",
              "      <td>m</td>\n",
              "      <td>dpcLMoJD69UYMXMxaoEFnWql9YjQM</td>\n",
              "      <td>www.wlwt.com</td>\n",
              "      <td>1409229190508</td>\n",
              "    </tr>\n",
              "    <tr>\n",
              "      <th>422416</th>\n",
              "      <td>422935</td>\n",
              "      <td>Child who swallowed battery to have reconstruc...</td>\n",
              "      <td>http://www.newsnet5.com/news/local-news/child-...</td>\n",
              "      <td>NewsNet5.com</td>\n",
              "      <td>m</td>\n",
              "      <td>dpcLMoJD69UYMXMxaoEFnWql9YjQM</td>\n",
              "      <td>www.newsnet5.com</td>\n",
              "      <td>1409229190771</td>\n",
              "    </tr>\n",
              "    <tr>\n",
              "      <th>422417</th>\n",
              "      <td>422936</td>\n",
              "      <td>Phoenix boy undergoes surgery to repair throat...</td>\n",
              "      <td>http://www.wfsb.com/story/26368078/phoenix-boy...</td>\n",
              "      <td>WFSB</td>\n",
              "      <td>m</td>\n",
              "      <td>dpcLMoJD69UYMXMxaoEFnWql9YjQM</td>\n",
              "      <td>www.wfsb.com</td>\n",
              "      <td>1409229191071</td>\n",
              "    </tr>\n",
              "    <tr>\n",
              "      <th>422418</th>\n",
              "      <td>422937</td>\n",
              "      <td>Phoenix boy undergoes surgery to repair throat...</td>\n",
              "      <td>http://www.cbs3springfield.com/story/26368078/...</td>\n",
              "      <td>WSHM-TV</td>\n",
              "      <td>m</td>\n",
              "      <td>dpcLMoJD69UYMXMxaoEFnWql9YjQM</td>\n",
              "      <td>www.cbs3springfield.com</td>\n",
              "      <td>1409229191565</td>\n",
              "    </tr>\n",
              "  </tbody>\n",
              "</table>\n",
              "<p>422419 rows × 8 columns</p>\n",
              "</div>\n",
              "    <div class=\"colab-df-buttons\">\n",
              "\n",
              "  <div class=\"colab-df-container\">\n",
              "    <button class=\"colab-df-convert\" onclick=\"convertToInteractive('df-be228a76-c7bd-440c-acec-1ddd0b3e14f2')\"\n",
              "            title=\"Convert this dataframe to an interactive table.\"\n",
              "            style=\"display:none;\">\n",
              "\n",
              "  <svg xmlns=\"http://www.w3.org/2000/svg\" height=\"24px\" viewBox=\"0 -960 960 960\">\n",
              "    <path d=\"M120-120v-720h720v720H120Zm60-500h600v-160H180v160Zm220 220h160v-160H400v160Zm0 220h160v-160H400v160ZM180-400h160v-160H180v160Zm440 0h160v-160H620v160ZM180-180h160v-160H180v160Zm440 0h160v-160H620v160Z\"/>\n",
              "  </svg>\n",
              "    </button>\n",
              "\n",
              "  <style>\n",
              "    .colab-df-container {\n",
              "      display:flex;\n",
              "      gap: 12px;\n",
              "    }\n",
              "\n",
              "    .colab-df-convert {\n",
              "      background-color: #E8F0FE;\n",
              "      border: none;\n",
              "      border-radius: 50%;\n",
              "      cursor: pointer;\n",
              "      display: none;\n",
              "      fill: #1967D2;\n",
              "      height: 32px;\n",
              "      padding: 0 0 0 0;\n",
              "      width: 32px;\n",
              "    }\n",
              "\n",
              "    .colab-df-convert:hover {\n",
              "      background-color: #E2EBFA;\n",
              "      box-shadow: 0px 1px 2px rgba(60, 64, 67, 0.3), 0px 1px 3px 1px rgba(60, 64, 67, 0.15);\n",
              "      fill: #174EA6;\n",
              "    }\n",
              "\n",
              "    .colab-df-buttons div {\n",
              "      margin-bottom: 4px;\n",
              "    }\n",
              "\n",
              "    [theme=dark] .colab-df-convert {\n",
              "      background-color: #3B4455;\n",
              "      fill: #D2E3FC;\n",
              "    }\n",
              "\n",
              "    [theme=dark] .colab-df-convert:hover {\n",
              "      background-color: #434B5C;\n",
              "      box-shadow: 0px 1px 3px 1px rgba(0, 0, 0, 0.15);\n",
              "      filter: drop-shadow(0px 1px 2px rgba(0, 0, 0, 0.3));\n",
              "      fill: #FFFFFF;\n",
              "    }\n",
              "  </style>\n",
              "\n",
              "    <script>\n",
              "      const buttonEl =\n",
              "        document.querySelector('#df-be228a76-c7bd-440c-acec-1ddd0b3e14f2 button.colab-df-convert');\n",
              "      buttonEl.style.display =\n",
              "        google.colab.kernel.accessAllowed ? 'block' : 'none';\n",
              "\n",
              "      async function convertToInteractive(key) {\n",
              "        const element = document.querySelector('#df-be228a76-c7bd-440c-acec-1ddd0b3e14f2');\n",
              "        const dataTable =\n",
              "          await google.colab.kernel.invokeFunction('convertToInteractive',\n",
              "                                                    [key], {});\n",
              "        if (!dataTable) return;\n",
              "\n",
              "        const docLinkHtml = 'Like what you see? Visit the ' +\n",
              "          '<a target=\"_blank\" href=https://colab.research.google.com/notebooks/data_table.ipynb>data table notebook</a>'\n",
              "          + ' to learn more about interactive tables.';\n",
              "        element.innerHTML = '';\n",
              "        dataTable['output_type'] = 'display_data';\n",
              "        await google.colab.output.renderOutput(dataTable, element);\n",
              "        const docLink = document.createElement('div');\n",
              "        docLink.innerHTML = docLinkHtml;\n",
              "        element.appendChild(docLink);\n",
              "      }\n",
              "    </script>\n",
              "  </div>\n",
              "\n",
              "\n",
              "<div id=\"df-a1fbfc44-c0d4-4da4-85cf-1852fc1e8c08\">\n",
              "  <button class=\"colab-df-quickchart\" onclick=\"quickchart('df-a1fbfc44-c0d4-4da4-85cf-1852fc1e8c08')\"\n",
              "            title=\"Suggest charts\"\n",
              "            style=\"display:none;\">\n",
              "\n",
              "<svg xmlns=\"http://www.w3.org/2000/svg\" height=\"24px\"viewBox=\"0 0 24 24\"\n",
              "     width=\"24px\">\n",
              "    <g>\n",
              "        <path d=\"M19 3H5c-1.1 0-2 .9-2 2v14c0 1.1.9 2 2 2h14c1.1 0 2-.9 2-2V5c0-1.1-.9-2-2-2zM9 17H7v-7h2v7zm4 0h-2V7h2v10zm4 0h-2v-4h2v4z\"/>\n",
              "    </g>\n",
              "</svg>\n",
              "  </button>\n",
              "\n",
              "<style>\n",
              "  .colab-df-quickchart {\n",
              "      --bg-color: #E8F0FE;\n",
              "      --fill-color: #1967D2;\n",
              "      --hover-bg-color: #E2EBFA;\n",
              "      --hover-fill-color: #174EA6;\n",
              "      --disabled-fill-color: #AAA;\n",
              "      --disabled-bg-color: #DDD;\n",
              "  }\n",
              "\n",
              "  [theme=dark] .colab-df-quickchart {\n",
              "      --bg-color: #3B4455;\n",
              "      --fill-color: #D2E3FC;\n",
              "      --hover-bg-color: #434B5C;\n",
              "      --hover-fill-color: #FFFFFF;\n",
              "      --disabled-bg-color: #3B4455;\n",
              "      --disabled-fill-color: #666;\n",
              "  }\n",
              "\n",
              "  .colab-df-quickchart {\n",
              "    background-color: var(--bg-color);\n",
              "    border: none;\n",
              "    border-radius: 50%;\n",
              "    cursor: pointer;\n",
              "    display: none;\n",
              "    fill: var(--fill-color);\n",
              "    height: 32px;\n",
              "    padding: 0;\n",
              "    width: 32px;\n",
              "  }\n",
              "\n",
              "  .colab-df-quickchart:hover {\n",
              "    background-color: var(--hover-bg-color);\n",
              "    box-shadow: 0 1px 2px rgba(60, 64, 67, 0.3), 0 1px 3px 1px rgba(60, 64, 67, 0.15);\n",
              "    fill: var(--button-hover-fill-color);\n",
              "  }\n",
              "\n",
              "  .colab-df-quickchart-complete:disabled,\n",
              "  .colab-df-quickchart-complete:disabled:hover {\n",
              "    background-color: var(--disabled-bg-color);\n",
              "    fill: var(--disabled-fill-color);\n",
              "    box-shadow: none;\n",
              "  }\n",
              "\n",
              "  .colab-df-spinner {\n",
              "    border: 2px solid var(--fill-color);\n",
              "    border-color: transparent;\n",
              "    border-bottom-color: var(--fill-color);\n",
              "    animation:\n",
              "      spin 1s steps(1) infinite;\n",
              "  }\n",
              "\n",
              "  @keyframes spin {\n",
              "    0% {\n",
              "      border-color: transparent;\n",
              "      border-bottom-color: var(--fill-color);\n",
              "      border-left-color: var(--fill-color);\n",
              "    }\n",
              "    20% {\n",
              "      border-color: transparent;\n",
              "      border-left-color: var(--fill-color);\n",
              "      border-top-color: var(--fill-color);\n",
              "    }\n",
              "    30% {\n",
              "      border-color: transparent;\n",
              "      border-left-color: var(--fill-color);\n",
              "      border-top-color: var(--fill-color);\n",
              "      border-right-color: var(--fill-color);\n",
              "    }\n",
              "    40% {\n",
              "      border-color: transparent;\n",
              "      border-right-color: var(--fill-color);\n",
              "      border-top-color: var(--fill-color);\n",
              "    }\n",
              "    60% {\n",
              "      border-color: transparent;\n",
              "      border-right-color: var(--fill-color);\n",
              "    }\n",
              "    80% {\n",
              "      border-color: transparent;\n",
              "      border-right-color: var(--fill-color);\n",
              "      border-bottom-color: var(--fill-color);\n",
              "    }\n",
              "    90% {\n",
              "      border-color: transparent;\n",
              "      border-bottom-color: var(--fill-color);\n",
              "    }\n",
              "  }\n",
              "</style>\n",
              "\n",
              "  <script>\n",
              "    async function quickchart(key) {\n",
              "      const quickchartButtonEl =\n",
              "        document.querySelector('#' + key + ' button');\n",
              "      quickchartButtonEl.disabled = true;  // To prevent multiple clicks.\n",
              "      quickchartButtonEl.classList.add('colab-df-spinner');\n",
              "      try {\n",
              "        const charts = await google.colab.kernel.invokeFunction(\n",
              "            'suggestCharts', [key], {});\n",
              "      } catch (error) {\n",
              "        console.error('Error during call to suggestCharts:', error);\n",
              "      }\n",
              "      quickchartButtonEl.classList.remove('colab-df-spinner');\n",
              "      quickchartButtonEl.classList.add('colab-df-quickchart-complete');\n",
              "    }\n",
              "    (() => {\n",
              "      let quickchartButtonEl =\n",
              "        document.querySelector('#df-a1fbfc44-c0d4-4da4-85cf-1852fc1e8c08 button');\n",
              "      quickchartButtonEl.style.display =\n",
              "        google.colab.kernel.accessAllowed ? 'block' : 'none';\n",
              "    })();\n",
              "  </script>\n",
              "</div>\n",
              "    </div>\n",
              "  </div>\n"
            ]
          },
          "metadata": {},
          "execution_count": 5
        }
      ]
    },
    {
      "cell_type": "code",
      "source": [
        "fix_data = data[data['PUBLISHER'].isin([\"Reuters\", \"Huffington Post\", \"Businessweek\", \"Contactmusic.com\", \"Daily Mail\"])]"
      ],
      "metadata": {
        "id": "33hzV2dLBGFp"
      },
      "execution_count": 6,
      "outputs": []
    },
    {
      "cell_type": "code",
      "source": [
        "def preprocessing(text):\n",
        "  text = \"\".join([i for i in text if i not in string.punctuation])\n",
        "  text = text.lower()\n",
        "  text = re.sub(\"[0-9]+\", \"\", text)\n",
        "  return text"
      ],
      "metadata": {
        "id": "l-lVrBS9xTyl"
      },
      "execution_count": 7,
      "outputs": []
    },
    {
      "cell_type": "code",
      "source": [
        "fix_data['pTITLE'] = fix_data['TITLE'].apply(lambda x: preprocessing(x))"
      ],
      "metadata": {
        "colab": {
          "base_uri": "https://localhost:8080/"
        },
        "id": "6Oj5RN_ky10g",
        "outputId": "0b2c0c49-1c48-4164-d800-dfc8d309cb45"
      },
      "execution_count": 8,
      "outputs": [
        {
          "output_type": "stream",
          "name": "stderr",
          "text": [
            "<ipython-input-8-0330034268ea>:1: SettingWithCopyWarning: \n",
            "A value is trying to be set on a copy of a slice from a DataFrame.\n",
            "Try using .loc[row_indexer,col_indexer] = value instead\n",
            "\n",
            "See the caveats in the documentation: https://pandas.pydata.org/pandas-docs/stable/user_guide/indexing.html#returning-a-view-versus-a-copy\n",
            "  fix_data['pTITLE'] = fix_data['TITLE'].apply(lambda x: preprocessing(x))\n"
          ]
        }
      ]
    },
    {
      "cell_type": "code",
      "source": [
        "vectorizer = TfidfVectorizer(min_df=10, ngram_range=(1, 2)) # 1-gram, 2-gramでTfidfを計算\n",
        "X = vectorizer.fit_transform(fix_data['pTITLE']).toarray()\n",
        "X = pd.DataFrame(X, columns=vectorizer.get_feature_names_out())"
      ],
      "metadata": {
        "id": "SWXmxXiky7d5"
      },
      "execution_count": 9,
      "outputs": []
    },
    {
      "cell_type": "code",
      "source": [
        "X_train_all, X_test = train_test_split(X, test_size=0.2, shuffle=True)"
      ],
      "metadata": {
        "id": "kuvJWOJDaIyO"
      },
      "execution_count": 10,
      "outputs": []
    },
    {
      "cell_type": "code",
      "source": [
        "X_train, X_val = train_test_split(X_train_all, test_size=0.1, shuffle=True)"
      ],
      "metadata": {
        "id": "XxUs5ZzKwL_n"
      },
      "execution_count": 11,
      "outputs": []
    },
    {
      "cell_type": "code",
      "source": [
        "y_train = fix_data.iloc[X_train.index]['CATEGORY'].map({'b': 0, 'e': 1, 't': 2, 'm': 3})\n",
        "y_val = fix_data.iloc[X_val.index]['CATEGORY'].map({'b': 0, 'e': 1, 't': 2, 'm': 3})\n",
        "y_test = fix_data.iloc[X_test.index]['CATEGORY'].map({'b': 0, 'e': 1, 't': 2, 'm': 3})"
      ],
      "metadata": {
        "id": "NTw87gO-uz2e"
      },
      "execution_count": 12,
      "outputs": []
    },
    {
      "cell_type": "code",
      "source": [
        "!rm -rf data\n",
        "!mkdir data\n",
        "\n",
        "!mkdir data/train\n",
        "!mkdir data/val\n",
        "!mkdir data/test"
      ],
      "metadata": {
        "id": "g2cFMXGv0jTq"
      },
      "execution_count": 13,
      "outputs": []
    },
    {
      "cell_type": "code",
      "source": [
        "X_train.to_pickle('data/train/X_train.pkl')\n",
        "X_val.to_pickle('data/val/X_val.pkl')\n",
        "X_test.to_pickle('data/test/X_test.pkl')"
      ],
      "metadata": {
        "id": "FIBpApkf0E-B"
      },
      "execution_count": 14,
      "outputs": []
    },
    {
      "cell_type": "code",
      "source": [
        "y_train.to_pickle('data/train/y_train.pkl')\n",
        "y_val.to_pickle('data/val/y_val.pkl')\n",
        "y_test.to_pickle('data/test/y_test.pkl')"
      ],
      "metadata": {
        "id": "yqPqwnHk0Zq3"
      },
      "execution_count": 15,
      "outputs": []
    },
    {
      "cell_type": "markdown",
      "source": [
        "# 71. 単層ニューラルネットワークによる予測"
      ],
      "metadata": {
        "id": "sz8KAEwx1Se3"
      }
    },
    {
      "cell_type": "code",
      "source": [
        "class Net(nn.Module):\n",
        "  def __init__(self,n_input,n_hidden,n_output):\n",
        "    super(Net,self).__init__()\n",
        "    self.input = nn.Linear(n_input,n_hidden,bias=True)\n",
        "    self.hidden = nn.Linear(n_hidden,n_hidden,bias=True)\n",
        "    self.output = nn.Linear(n_hidden,n_output,bias=False)\n",
        "\n",
        "  def forward(self, x):\n",
        "    x = self.input(x)\n",
        "    x = F.relu(x)\n",
        "    x = self.hidden(x)\n",
        "    x = F.relu(x)\n",
        "    x = self.output(x)\n",
        "    x = F.softmax(x)\n",
        "    return x"
      ],
      "metadata": {
        "id": "L_EIXLMT1XMJ"
      },
      "execution_count": 16,
      "outputs": []
    },
    {
      "cell_type": "code",
      "source": [
        "X_train = pd.read_pickle('data/train/X_train.pkl')\n",
        "X_val = pd.read_pickle('data/val/X_val.pkl')\n",
        "X_test = pd.read_pickle('data/test/X_test.pkl')"
      ],
      "metadata": {
        "id": "cZ_6vbX36Pbd"
      },
      "execution_count": 17,
      "outputs": []
    },
    {
      "cell_type": "code",
      "source": [
        "y_train = pd.read_pickle('data/train/y_train.pkl')\n",
        "y_val = pd.read_pickle('data/val/y_val.pkl')\n",
        "y_test = pd.read_pickle('data/test/y_test.pkl')"
      ],
      "metadata": {
        "id": "T1vcJTRBR-vm"
      },
      "execution_count": 18,
      "outputs": []
    },
    {
      "cell_type": "code",
      "source": [
        "tensor_X_train = torch.tensor(X_train.values.astype('float32'))\n",
        "tensor_X_val = torch.tensor(X_val.values.astype('float32'))\n",
        "tensor_X_test = torch.tensor(X_test.values.astype('float32'))\n",
        "\n",
        "tensor_y_train = torch.tensor(y_train.values.astype('float32'),dtype=torch.long)\n",
        "tensor_y_val = torch.tensor(y_val.values.astype('float32'),dtype=torch.long)\n",
        "tensor_y_test = torch.tensor(y_test.values.astype('float32'),dtype=torch.long)"
      ],
      "metadata": {
        "id": "2LG54M7Y660D"
      },
      "execution_count": 19,
      "outputs": []
    },
    {
      "cell_type": "code",
      "source": [
        "n_input = X_train.shape[1]\n",
        "n_hidden = 32\n",
        "n_output = 4"
      ],
      "metadata": {
        "id": "NGkTZUUE5LU5"
      },
      "execution_count": 20,
      "outputs": []
    },
    {
      "cell_type": "code",
      "source": [
        "model = Net(n_input,n_hidden,n_output)"
      ],
      "metadata": {
        "id": "GyJSyTcG5As9"
      },
      "execution_count": 21,
      "outputs": []
    },
    {
      "cell_type": "code",
      "source": [
        "y_train_pred = model(tensor_X_train)"
      ],
      "metadata": {
        "colab": {
          "base_uri": "https://localhost:8080/"
        },
        "id": "TUQK39bT6egQ",
        "outputId": "e8fb161a-bbdb-4e18-850c-bfc2230da3d6"
      },
      "execution_count": 22,
      "outputs": [
        {
          "output_type": "stream",
          "name": "stderr",
          "text": [
            "<ipython-input-16-b1e20c28f337>:14: UserWarning: Implicit dimension choice for softmax has been deprecated. Change the call to include dim=X as an argument.\n",
            "  x = F.softmax(x)\n"
          ]
        }
      ]
    },
    {
      "cell_type": "code",
      "source": [
        "y_train_pred"
      ],
      "metadata": {
        "colab": {
          "base_uri": "https://localhost:8080/"
        },
        "id": "bWkrg3lVDv6o",
        "outputId": "847706d0-5f5a-4e3d-a420-88eac557caa4"
      },
      "execution_count": 23,
      "outputs": [
        {
          "output_type": "execute_result",
          "data": {
            "text/plain": [
              "tensor([[0.2462, 0.2590, 0.2487, 0.2462],\n",
              "        [0.2454, 0.2598, 0.2485, 0.2463],\n",
              "        [0.2456, 0.2593, 0.2486, 0.2465],\n",
              "        ...,\n",
              "        [0.2460, 0.2593, 0.2484, 0.2463],\n",
              "        [0.2460, 0.2593, 0.2487, 0.2460],\n",
              "        [0.2461, 0.2591, 0.2487, 0.2461]], grad_fn=<SoftmaxBackward0>)"
            ]
          },
          "metadata": {},
          "execution_count": 23
        }
      ]
    },
    {
      "cell_type": "markdown",
      "source": [
        "# 72. 損失と勾配の計算"
      ],
      "metadata": {
        "id": "lrtrhibBE3Th"
      }
    },
    {
      "cell_type": "code",
      "source": [
        "loss_fn = nn.CrossEntropyLoss()"
      ],
      "metadata": {
        "id": "2ugTRRaVE4pv"
      },
      "execution_count": 24,
      "outputs": []
    },
    {
      "cell_type": "code",
      "source": [
        "loss_fn(y_train_pred,tensor_y_train)"
      ],
      "metadata": {
        "colab": {
          "base_uri": "https://localhost:8080/"
        },
        "id": "ugrwKgmFFKqN",
        "outputId": "f590a918-3ade-4824-fdf7-ec2ccbdf385d"
      },
      "execution_count": 25,
      "outputs": [
        {
          "output_type": "execute_result",
          "data": {
            "text/plain": [
              "tensor(1.3848, grad_fn=<NllLossBackward0>)"
            ]
          },
          "metadata": {},
          "execution_count": 25
        }
      ]
    },
    {
      "cell_type": "markdown",
      "source": [
        "# 73. 確率的勾配降下法による学習\n",
        "\n",
        "確率的勾配降下法（SGD: Stochastic Gradient Descent）を用いて，行列W\n",
        "を学習せよ．なお，学習は適当な基準で終了させればよい（例えば「100エポックで終了」など）．"
      ],
      "metadata": {
        "id": "D4XXoIPrHmfD"
      }
    },
    {
      "cell_type": "code",
      "source": [
        "optimizer = optim.SGD(model.parameters(),lr=0.001)"
      ],
      "metadata": {
        "id": "tbghmsTyHlnF"
      },
      "execution_count": 26,
      "outputs": []
    },
    {
      "cell_type": "code",
      "source": [
        "train_dataset = torch.utils.data.TensorDataset(tensor_X_train, tensor_y_train)"
      ],
      "metadata": {
        "id": "jx2HsTG0QU7m"
      },
      "execution_count": 27,
      "outputs": []
    },
    {
      "cell_type": "code",
      "source": [
        "epochs = 50\n",
        "for epoch in range(epochs):\n",
        "  for x, y in train_dataset:\n",
        "    optimizer.zero_grad()\n",
        "    y_x_pred = model(x)\n",
        "    loss = loss_fn(y_x_pred,y)\n",
        "    loss.backward()\n",
        "    optimizer.step()"
      ],
      "metadata": {
        "colab": {
          "base_uri": "https://localhost:8080/"
        },
        "id": "miSKmxKWMdpB",
        "outputId": "f488f2d9-a7d1-4c4d-8dc3-3d271093c4e1"
      },
      "execution_count": 28,
      "outputs": [
        {
          "output_type": "stream",
          "name": "stderr",
          "text": [
            "<ipython-input-16-b1e20c28f337>:14: UserWarning: Implicit dimension choice for softmax has been deprecated. Change the call to include dim=X as an argument.\n",
            "  x = F.softmax(x)\n"
          ]
        }
      ]
    },
    {
      "cell_type": "markdown",
      "source": [
        "# 74. 正解率の計測\n",
        "\n",
        "問題73で求めた行列を用いて学習データおよび評価データの事例を分類したとき，その正解率をそれぞれ求めよ．"
      ],
      "metadata": {
        "id": "w6-0vXuiRk4A"
      }
    },
    {
      "cell_type": "code",
      "source": [
        "epochs = 100\n",
        "for epoch in range(epochs):\n",
        "  optimizer.zero_grad()\n",
        "  y_train_pred = model(tensor_X_train)\n",
        "  loss = loss_fn(y_train_pred,tensor_y_train)\n",
        "  loss.backward()\n",
        "  optimizer.step()"
      ],
      "metadata": {
        "colab": {
          "base_uri": "https://localhost:8080/"
        },
        "id": "mvc-xthgF8sK",
        "outputId": "d0310f5c-1c18-46a5-882c-011458457a3c"
      },
      "execution_count": 39,
      "outputs": [
        {
          "output_type": "stream",
          "name": "stderr",
          "text": [
            "<ipython-input-16-b1e20c28f337>:14: UserWarning: Implicit dimension choice for softmax has been deprecated. Change the call to include dim=X as an argument.\n",
            "  x = F.softmax(x)\n"
          ]
        }
      ]
    },
    {
      "cell_type": "code",
      "source": [
        "y_val_pred = model(tensor_X_val)"
      ],
      "metadata": {
        "colab": {
          "base_uri": "https://localhost:8080/"
        },
        "id": "fKD_8gNaGno5",
        "outputId": "5c25b395-b8c5-44d4-bf12-bcc27f964b8f"
      },
      "execution_count": 40,
      "outputs": [
        {
          "output_type": "stream",
          "name": "stderr",
          "text": [
            "<ipython-input-16-b1e20c28f337>:14: UserWarning: Implicit dimension choice for softmax has been deprecated. Change the call to include dim=X as an argument.\n",
            "  x = F.softmax(x)\n"
          ]
        }
      ]
    },
    {
      "cell_type": "code",
      "source": [
        "y_train_pred = np.argmax(y_train_pred.detach().numpy(),1)\n",
        "y_val_pred = np.argmax(y_val_pred.detach().numpy(),1)"
      ],
      "metadata": {
        "id": "zMO71HKeHnvS"
      },
      "execution_count": 41,
      "outputs": []
    },
    {
      "cell_type": "code",
      "source": [
        "print(f'Train Accuracy: {accuracy_score(tensor_y_train.detach().numpy(), y_train_pred)}')\n",
        "print(f'Valid Accuracy: {accuracy_score(tensor_y_val.detach().numpy(), y_val_pred)}')"
      ],
      "metadata": {
        "colab": {
          "base_uri": "https://localhost:8080/"
        },
        "id": "o6QWeYkUGF4F",
        "outputId": "d10bd91e-64ae-4a01-9230-c657f6aa924e"
      },
      "execution_count": 42,
      "outputs": [
        {
          "output_type": "stream",
          "name": "stdout",
          "text": [
            "Train Accuracy: 0.8088296543107039\n",
            "Valid Accuracy: 0.7940074906367042\n"
          ]
        }
      ]
    },
    {
      "cell_type": "markdown",
      "source": [
        "# 75. 損失と正解率のプロット\n",
        "\n",
        "問題73のコードを改変し，各エポックのパラメータ更新が完了するたびに，訓練データでの損失，正解率，検証データでの損失，正解率をグラフにプロットし，学習の進捗状況を確認できるようにせよ．"
      ],
      "metadata": {
        "id": "2nA3gFZgIZyx"
      }
    },
    {
      "cell_type": "code",
      "source": [],
      "metadata": {
        "id": "TTGI7_lkH2Fp"
      },
      "execution_count": 42,
      "outputs": []
    }
  ]
}